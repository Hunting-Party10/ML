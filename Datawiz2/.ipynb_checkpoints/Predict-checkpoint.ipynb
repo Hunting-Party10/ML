{
 "cells": [
  {
   "cell_type": "code",
   "execution_count": 1,
   "metadata": {
    "collapsed": true
   },
   "outputs": [
    {
     "name": "stderr",
     "output_type": "stream",
     "text": [
      "/usr/lib/python3.7/site-packages/tensorflow/python/framework/dtypes.py:516: FutureWarning: Passing (type, 1) or '1type' as a synonym of type is deprecated; in a future version of numpy, it will be understood as (type, (1,)) / '(1,)type'.\n",
      "  _np_qint8 = np.dtype([(\"qint8\", np.int8, 1)])\n",
      "/usr/lib/python3.7/site-packages/tensorflow/python/framework/dtypes.py:517: FutureWarning: Passing (type, 1) or '1type' as a synonym of type is deprecated; in a future version of numpy, it will be understood as (type, (1,)) / '(1,)type'.\n",
      "  _np_quint8 = np.dtype([(\"quint8\", np.uint8, 1)])\n",
      "/usr/lib/python3.7/site-packages/tensorflow/python/framework/dtypes.py:518: FutureWarning: Passing (type, 1) or '1type' as a synonym of type is deprecated; in a future version of numpy, it will be understood as (type, (1,)) / '(1,)type'.\n",
      "  _np_qint16 = np.dtype([(\"qint16\", np.int16, 1)])\n",
      "/usr/lib/python3.7/site-packages/tensorflow/python/framework/dtypes.py:519: FutureWarning: Passing (type, 1) or '1type' as a synonym of type is deprecated; in a future version of numpy, it will be understood as (type, (1,)) / '(1,)type'.\n",
      "  _np_quint16 = np.dtype([(\"quint16\", np.uint16, 1)])\n",
      "/usr/lib/python3.7/site-packages/tensorflow/python/framework/dtypes.py:520: FutureWarning: Passing (type, 1) or '1type' as a synonym of type is deprecated; in a future version of numpy, it will be understood as (type, (1,)) / '(1,)type'.\n",
      "  _np_qint32 = np.dtype([(\"qint32\", np.int32, 1)])\n",
      "/usr/lib/python3.7/site-packages/tensorflow/python/framework/dtypes.py:525: FutureWarning: Passing (type, 1) or '1type' as a synonym of type is deprecated; in a future version of numpy, it will be understood as (type, (1,)) / '(1,)type'.\n",
      "  np_resource = np.dtype([(\"resource\", np.ubyte, 1)])\n",
      "/usr/lib/python3.7/site-packages/tensorboard/compat/tensorflow_stub/dtypes.py:541: FutureWarning: Passing (type, 1) or '1type' as a synonym of type is deprecated; in a future version of numpy, it will be understood as (type, (1,)) / '(1,)type'.\n",
      "  _np_qint8 = np.dtype([(\"qint8\", np.int8, 1)])\n",
      "/usr/lib/python3.7/site-packages/tensorboard/compat/tensorflow_stub/dtypes.py:542: FutureWarning: Passing (type, 1) or '1type' as a synonym of type is deprecated; in a future version of numpy, it will be understood as (type, (1,)) / '(1,)type'.\n",
      "  _np_quint8 = np.dtype([(\"quint8\", np.uint8, 1)])\n",
      "/usr/lib/python3.7/site-packages/tensorboard/compat/tensorflow_stub/dtypes.py:543: FutureWarning: Passing (type, 1) or '1type' as a synonym of type is deprecated; in a future version of numpy, it will be understood as (type, (1,)) / '(1,)type'.\n",
      "  _np_qint16 = np.dtype([(\"qint16\", np.int16, 1)])\n",
      "/usr/lib/python3.7/site-packages/tensorboard/compat/tensorflow_stub/dtypes.py:544: FutureWarning: Passing (type, 1) or '1type' as a synonym of type is deprecated; in a future version of numpy, it will be understood as (type, (1,)) / '(1,)type'.\n",
      "  _np_quint16 = np.dtype([(\"quint16\", np.uint16, 1)])\n",
      "/usr/lib/python3.7/site-packages/tensorboard/compat/tensorflow_stub/dtypes.py:545: FutureWarning: Passing (type, 1) or '1type' as a synonym of type is deprecated; in a future version of numpy, it will be understood as (type, (1,)) / '(1,)type'.\n",
      "  _np_qint32 = np.dtype([(\"qint32\", np.int32, 1)])\n",
      "/usr/lib/python3.7/site-packages/tensorboard/compat/tensorflow_stub/dtypes.py:550: FutureWarning: Passing (type, 1) or '1type' as a synonym of type is deprecated; in a future version of numpy, it will be understood as (type, (1,)) / '(1,)type'.\n",
      "  np_resource = np.dtype([(\"resource\", np.ubyte, 1)])\n"
     ]
    }
   ],
   "source": [
    "import numpy as np\n",
    "import pandas as pd \n",
    "import tensorflow as tf\n",
    "import seaborn as sns\n",
    "import matplotlib.pyplot as plt\n",
    "from datetime import datetime\n",
    "from datetime import date\n",
    "\n",
    "df1 = pd.read_csv('train.csv')\n",
    "df2 = pd.read_csv('test.csv')\n",
    "\n",
    "df1.drop(labels=['Id'],axis=1,inplace=True)\n",
    "df2.drop(labels=['Id'],axis=1,inplace=True)\n",
    "\n",
    "y = df1['total_wages']\n",
    "\n",
    "df1.drop(labels=['total_wages'],axis=1,inplace=True)\n",
    "\n",
    "df1['employer'] = df1['employer'].map({'Gujarat Forensic Sciences University':1,\n",
    "       'Maharaja Sayajirao University of Baroda':2,\n",
    "       'Sardar Patel University':24, 'Dharamsinh Desai University':3,\n",
    "       'Dr. Babasaheb Ambedkar Open University':4,\n",
    "       'Gujarat Technological University':5,\n",
    "       'Bhakta Kavi Narsinh Mehta University':6, 'Gujarat University':7,\n",
    "       'Navsari Agricultural University':8, 'Saurashtra University':9,\n",
    "       'Sardarkrushinagar Dantiwada Agricultural University':10,\n",
    "       'Veer Narmad South Gujarat University':11,\n",
    "       'Anand Agricultural University':12, 'Gujarat Ayurved University':13,\n",
    "       'Gujarat University of Transplantation Sciences':14,\n",
    "       'Maharaja Krishnakumarsinhji Bhavnagar University':15,\n",
    "       'Gujarat National Law University':16, 'Shri Govind Guru University':17,\n",
    "       'Institute of Infrastructure Technology Research and Management':18,\n",
    "       'Ganpat University':19,\n",
    "       'Krantiguru Shyamji Krishna Verma Kachchh University':20,\n",
    "       'Shree Somnath Sanskrit University':21, 'Raksha Shakti University':22,\n",
    "       'Hemchandracharya North Gujarat University':23})\n",
    "\n",
    "df1['pension'] = df1['pension'].map({'Part-Time Seasonal and Temporary (PST) Retirement Plan':1, np.nan:np.nan,\n",
    "       '2.00% @ 62':2, '2.00% @ 55':3, '2.00% @ 60':4, '2.50% @ 55':5,\n",
    "       '2.50% @ 57':6, '3.00% @ 50':7})\n",
    "\n",
    "df1['employer_url'] = df1['employer_url'].map({'gfsu.edu.in':1, 'msubaroda.ac.in':2, 'spuvvn.edu':3, 'ddu.ac.in':4,\n",
    "       'baou.edu.in':5, 'gtu.ac.in':6, 'www.bknmu.edu.in':7,\n",
    "       'gujaratuniversity.org.in':8, 'www.nau.in':9,\n",
    "       'saurashtrauniversity.edu':10, 'sdau.edu.in':11, 'vnsgu.ac.in':12,\n",
    "       'www.aau.in':13, 'ayurveduniversity.edu.in':14, 'www.guts.education':15,\n",
    "       'www.mkbhavuni.edu.in':16, 'gnlu.ac.in':17, 'sggu.ac.in':18, 'iitram.ac.in':19,\n",
    "       'gu.ac.in':20, 'kskvku.digitaluniversity.ac':21, 'sssu.ac.in':22,\n",
    "       'rsu.ac.in':23, 'ngu.ac.in':24})\n",
    "\n",
    "df1['location'] = df1['location'].map({'Gandhinagar':1, 'Vadodara':2, 'Vallabh Vidhyanagar':3, np.nan:np.nan, 'Ahmedabad':4,\n",
    "       'Junagadh':5, 'Navsari':6, 'Nadiad':7, 'Rajkot':8, 'Palanpur':9, 'Anand':10,\n",
    "       'Jamnagar':11, 'Bhavnagar':12, 'Mehsana':13, 'Bhuj':14, 'Veraval':15, 'Godhra':16,\n",
    "       'Surat':17, 'Patan':18})\n",
    "\n",
    "df2['pension'] = df2['pension'].map({'Part-Time Seasonal and Temporary (PST) Retirement Plan':1, np.nan:np.nan,\n",
    "       '2.00% @ 62':2, '2.00% @ 55':3, '2.00% @ 60':4, '2.50% @ 55':5,\n",
    "       '2.50% @ 57':6, '3.00% @ 50':7})\n",
    "\n",
    "df2['employer_url'] = df2['employer_url'].map({'gfsu.edu.in':1, 'msubaroda.ac.in':2, 'spuvvn.edu':3, 'ddu.ac.in':4,\n",
    "       'baou.edu.in':5, 'gtu.ac.in':6, 'www.bknmu.edu.in':7,\n",
    "       'gujaratuniversity.org.in':8, 'www.nau.in':9,\n",
    "       'saurashtrauniversity.edu':10, 'sdau.edu.in':11, 'vnsgu.ac.in':12,\n",
    "       'www.aau.in':13, 'ayurveduniversity.edu.in':14, 'www.guts.education':15,\n",
    "       'www.mkbhavuni.edu.in':16, 'gnlu.ac.in':17, 'sggu.ac.in':18, 'iitram.ac.in':19,\n",
    "       'gu.ac.in':20, 'kskvku.digitaluniversity.ac':21, 'sssu.ac.in':22,\n",
    "       'rsu.ac.in':23, 'ngu.ac.in':24})\n",
    "\n",
    "df2['location'] = df2['location'].map({'Gandhinagar':1, 'Vadodara':2, 'Vallabh Vidhyanagar':3, np.nan:np.nan, 'Ahmedabad':4,\n",
    "       'Junagadh':5, 'Navsari':6, 'Nadiad':7, 'Rajkot':8, 'Palanpur':9, 'Anand':10,\n",
    "       'Jamnagar':11, 'Bhavnagar':12, 'Mehsana':13, 'Bhuj':14, 'Veraval':15, 'Godhra':16,\n",
    "       'Surat':17, 'Patan':18})\n",
    "\n",
    "df2['employer'] = df2['employer'].map({'Gujarat Forensic Sciences University':1,\n",
    "       'Maharaja Sayajirao University of Baroda':2,\n",
    "       'Sardar Patel University':24, 'Dharamsinh Desai University':3,\n",
    "       'Dr. Babasaheb Ambedkar Open University':4,\n",
    "       'Gujarat Technological University':5,\n",
    "       'Bhakta Kavi Narsinh Mehta University':6, 'Gujarat University':7,\n",
    "       'Navsari Agricultural University':8, 'Saurashtra University':9,\n",
    "       'Sardarkrushinagar Dantiwada Agricultural University':10,\n",
    "       'Veer Narmad South Gujarat University':11,\n",
    "       'Anand Agricultural University':12, 'Gujarat Ayurved University':13,\n",
    "       'Gujarat University of Transplantation Sciences':14,\n",
    "       'Maharaja Krishnakumarsinhji Bhavnagar University':15,\n",
    "       'Gujarat National Law University':16, 'Shri Govind Guru University':17,\n",
    "       'Institute of Infrastructure Technology Research and Management':18,\n",
    "       'Ganpat University':19,\n",
    "       'Krantiguru Shyamji Krishna Verma Kachchh University':20,\n",
    "       'Shree Somnath Sanskrit University':21, 'Raksha Shakti University':22,\n",
    "       'Hemchandracharya North Gujarat University':23})\n",
    "\n",
    "\n",
    "def calculate_age(born):\n",
    "    born = datetime.strptime(born, \"%d-%m-%Y\").date()\n",
    "    today = date.today()\n",
    "    return today.year - born.year - ((today.month, today.day) < (born.month, born.day))\n",
    "\n",
    "df1['Age'] = df1['DOB'].apply(calculate_age)"
   ]
  },
  {
   "cell_type": "code",
   "execution_count": null,
   "metadata": {},
   "outputs": [],
   "source": []
  },
  {
   "cell_type": "code",
   "execution_count": 2,
   "metadata": {},
   "outputs": [],
   "source": [
    "df2['Age'] = df2['DOB'].apply(calculate_age)"
   ]
  },
  {
   "cell_type": "code",
   "execution_count": 3,
   "metadata": {},
   "outputs": [],
   "source": [
    "X_train = df1.drop(labels=['DOB'],axis = 1)\n",
    "X_test = df2.drop(labels=['DOB'],axis = 1)"
   ]
  },
  {
   "cell_type": "code",
   "execution_count": 4,
   "metadata": {},
   "outputs": [
    {
     "data": {
      "text/html": [
       "<div>\n",
       "<style scoped>\n",
       "    .dataframe tbody tr th:only-of-type {\n",
       "        vertical-align: middle;\n",
       "    }\n",
       "\n",
       "    .dataframe tbody tr th {\n",
       "        vertical-align: top;\n",
       "    }\n",
       "\n",
       "    .dataframe thead th {\n",
       "        text-align: right;\n",
       "    }\n",
       "</style>\n",
       "<table border=\"1\" class=\"dataframe\">\n",
       "  <thead>\n",
       "    <tr style=\"text-align: right;\">\n",
       "      <th></th>\n",
       "      <th>employer</th>\n",
       "      <th>min_pos_salary</th>\n",
       "      <th>max_pos_salary</th>\n",
       "      <th>overtime_pay</th>\n",
       "      <th>lump_sum_pay</th>\n",
       "      <th>other_pay</th>\n",
       "      <th>retirement_cost_covered</th>\n",
       "      <th>health_benefits</th>\n",
       "      <th>pension</th>\n",
       "      <th>employer_url</th>\n",
       "      <th>location</th>\n",
       "      <th>Age</th>\n",
       "    </tr>\n",
       "  </thead>\n",
       "  <tbody>\n",
       "    <tr>\n",
       "      <td>0</td>\n",
       "      <td>1</td>\n",
       "      <td>22879.56</td>\n",
       "      <td>291194.40</td>\n",
       "      <td>0.0</td>\n",
       "      <td>0.0</td>\n",
       "      <td>0.00</td>\n",
       "      <td>0.0</td>\n",
       "      <td>0.00</td>\n",
       "      <td>1.0</td>\n",
       "      <td>1</td>\n",
       "      <td>1.0</td>\n",
       "      <td>50</td>\n",
       "    </tr>\n",
       "    <tr>\n",
       "      <td>1</td>\n",
       "      <td>2</td>\n",
       "      <td>22879.56</td>\n",
       "      <td>38749.56</td>\n",
       "      <td>0.0</td>\n",
       "      <td>0.0</td>\n",
       "      <td>596.85</td>\n",
       "      <td>NaN</td>\n",
       "      <td>0.00</td>\n",
       "      <td>NaN</td>\n",
       "      <td>2</td>\n",
       "      <td>2.0</td>\n",
       "      <td>37</td>\n",
       "    </tr>\n",
       "    <tr>\n",
       "      <td>2</td>\n",
       "      <td>24</td>\n",
       "      <td>22879.56</td>\n",
       "      <td>38749.56</td>\n",
       "      <td>0.0</td>\n",
       "      <td>0.0</td>\n",
       "      <td>1040.13</td>\n",
       "      <td>0.0</td>\n",
       "      <td>0.00</td>\n",
       "      <td>NaN</td>\n",
       "      <td>3</td>\n",
       "      <td>3.0</td>\n",
       "      <td>62</td>\n",
       "    </tr>\n",
       "    <tr>\n",
       "      <td>3</td>\n",
       "      <td>3</td>\n",
       "      <td>31200.00</td>\n",
       "      <td>48888.00</td>\n",
       "      <td>0.0</td>\n",
       "      <td>0.0</td>\n",
       "      <td>5399.60</td>\n",
       "      <td>NaN</td>\n",
       "      <td>9319.08</td>\n",
       "      <td>2.0</td>\n",
       "      <td>4</td>\n",
       "      <td>NaN</td>\n",
       "      <td>48</td>\n",
       "    </tr>\n",
       "    <tr>\n",
       "      <td>4</td>\n",
       "      <td>4</td>\n",
       "      <td>49512.00</td>\n",
       "      <td>66192.00</td>\n",
       "      <td>0.0</td>\n",
       "      <td>0.0</td>\n",
       "      <td>2697.00</td>\n",
       "      <td>0.0</td>\n",
       "      <td>0.00</td>\n",
       "      <td>1.0</td>\n",
       "      <td>5</td>\n",
       "      <td>4.0</td>\n",
       "      <td>49</td>\n",
       "    </tr>\n",
       "  </tbody>\n",
       "</table>\n",
       "</div>"
      ],
      "text/plain": [
       "   employer  min_pos_salary  max_pos_salary  overtime_pay  lump_sum_pay  \\\n",
       "0         1        22879.56       291194.40           0.0           0.0   \n",
       "1         2        22879.56        38749.56           0.0           0.0   \n",
       "2        24        22879.56        38749.56           0.0           0.0   \n",
       "3         3        31200.00        48888.00           0.0           0.0   \n",
       "4         4        49512.00        66192.00           0.0           0.0   \n",
       "\n",
       "   other_pay  retirement_cost_covered  health_benefits  pension  employer_url  \\\n",
       "0       0.00                      0.0             0.00      1.0             1   \n",
       "1     596.85                      NaN             0.00      NaN             2   \n",
       "2    1040.13                      0.0             0.00      NaN             3   \n",
       "3    5399.60                      NaN          9319.08      2.0             4   \n",
       "4    2697.00                      0.0             0.00      1.0             5   \n",
       "\n",
       "   location  Age  \n",
       "0       1.0   50  \n",
       "1       2.0   37  \n",
       "2       3.0   62  \n",
       "3       NaN   48  \n",
       "4       4.0   49  "
      ]
     },
     "execution_count": 4,
     "metadata": {},
     "output_type": "execute_result"
    }
   ],
   "source": [
    "X_train.head()"
   ]
  },
  {
   "cell_type": "code",
   "execution_count": 5,
   "metadata": {},
   "outputs": [
    {
     "data": {
      "text/html": [
       "<div>\n",
       "<style scoped>\n",
       "    .dataframe tbody tr th:only-of-type {\n",
       "        vertical-align: middle;\n",
       "    }\n",
       "\n",
       "    .dataframe tbody tr th {\n",
       "        vertical-align: top;\n",
       "    }\n",
       "\n",
       "    .dataframe thead th {\n",
       "        text-align: right;\n",
       "    }\n",
       "</style>\n",
       "<table border=\"1\" class=\"dataframe\">\n",
       "  <thead>\n",
       "    <tr style=\"text-align: right;\">\n",
       "      <th></th>\n",
       "      <th>employer</th>\n",
       "      <th>min_pos_salary</th>\n",
       "      <th>max_pos_salary</th>\n",
       "      <th>overtime_pay</th>\n",
       "      <th>lump_sum_pay</th>\n",
       "      <th>other_pay</th>\n",
       "      <th>retirement_cost_covered</th>\n",
       "      <th>health_benefits</th>\n",
       "      <th>pension</th>\n",
       "      <th>employer_url</th>\n",
       "      <th>location</th>\n",
       "      <th>Age</th>\n",
       "    </tr>\n",
       "  </thead>\n",
       "  <tbody>\n",
       "    <tr>\n",
       "      <td>0</td>\n",
       "      <td>2</td>\n",
       "      <td>49512.00</td>\n",
       "      <td>66192.00</td>\n",
       "      <td>0.0</td>\n",
       "      <td>0.0</td>\n",
       "      <td>2576.11</td>\n",
       "      <td>0.0</td>\n",
       "      <td>0.00</td>\n",
       "      <td>1.0</td>\n",
       "      <td>2</td>\n",
       "      <td>2.0</td>\n",
       "      <td>56</td>\n",
       "    </tr>\n",
       "    <tr>\n",
       "      <td>1</td>\n",
       "      <td>9</td>\n",
       "      <td>37380.00</td>\n",
       "      <td>65700.00</td>\n",
       "      <td>0.0</td>\n",
       "      <td>0.0</td>\n",
       "      <td>493.05</td>\n",
       "      <td>NaN</td>\n",
       "      <td>11605.58</td>\n",
       "      <td>2.0</td>\n",
       "      <td>10</td>\n",
       "      <td>8.0</td>\n",
       "      <td>64</td>\n",
       "    </tr>\n",
       "    <tr>\n",
       "      <td>2</td>\n",
       "      <td>8</td>\n",
       "      <td>85188.00</td>\n",
       "      <td>150792.00</td>\n",
       "      <td>0.0</td>\n",
       "      <td>0.0</td>\n",
       "      <td>0.00</td>\n",
       "      <td>NaN</td>\n",
       "      <td>23270.64</td>\n",
       "      <td>3.0</td>\n",
       "      <td>9</td>\n",
       "      <td>6.0</td>\n",
       "      <td>43</td>\n",
       "    </tr>\n",
       "    <tr>\n",
       "      <td>3</td>\n",
       "      <td>5</td>\n",
       "      <td>50148.00</td>\n",
       "      <td>71304.00</td>\n",
       "      <td>0.0</td>\n",
       "      <td>0.0</td>\n",
       "      <td>1023.79</td>\n",
       "      <td>NaN</td>\n",
       "      <td>17631.72</td>\n",
       "      <td>3.0</td>\n",
       "      <td>6</td>\n",
       "      <td>4.0</td>\n",
       "      <td>66</td>\n",
       "    </tr>\n",
       "    <tr>\n",
       "      <td>4</td>\n",
       "      <td>19</td>\n",
       "      <td>22879.56</td>\n",
       "      <td>38749.56</td>\n",
       "      <td>0.0</td>\n",
       "      <td>0.0</td>\n",
       "      <td>1391.50</td>\n",
       "      <td>0.0</td>\n",
       "      <td>0.00</td>\n",
       "      <td>NaN</td>\n",
       "      <td>20</td>\n",
       "      <td>13.0</td>\n",
       "      <td>61</td>\n",
       "    </tr>\n",
       "  </tbody>\n",
       "</table>\n",
       "</div>"
      ],
      "text/plain": [
       "   employer  min_pos_salary  max_pos_salary  overtime_pay  lump_sum_pay  \\\n",
       "0         2        49512.00        66192.00           0.0           0.0   \n",
       "1         9        37380.00        65700.00           0.0           0.0   \n",
       "2         8        85188.00       150792.00           0.0           0.0   \n",
       "3         5        50148.00        71304.00           0.0           0.0   \n",
       "4        19        22879.56        38749.56           0.0           0.0   \n",
       "\n",
       "   other_pay  retirement_cost_covered  health_benefits  pension  employer_url  \\\n",
       "0    2576.11                      0.0             0.00      1.0             2   \n",
       "1     493.05                      NaN         11605.58      2.0            10   \n",
       "2       0.00                      NaN         23270.64      3.0             9   \n",
       "3    1023.79                      NaN         17631.72      3.0             6   \n",
       "4    1391.50                      0.0             0.00      NaN            20   \n",
       "\n",
       "   location  Age  \n",
       "0       2.0   56  \n",
       "1       8.0   64  \n",
       "2       6.0   43  \n",
       "3       4.0   66  \n",
       "4      13.0   61  "
      ]
     },
     "execution_count": 5,
     "metadata": {},
     "output_type": "execute_result"
    }
   ],
   "source": [
    "X_test.head()"
   ]
  },
  {
   "cell_type": "code",
   "execution_count": 6,
   "metadata": {},
   "outputs": [],
   "source": [
    "import matplotlib.pyplot as plt\n",
    "import seaborn as sns\n",
    "%matplotlib inline"
   ]
  },
  {
   "cell_type": "code",
   "execution_count": null,
   "metadata": {},
   "outputs": [],
   "source": []
  },
  {
   "cell_type": "code",
   "execution_count": 7,
   "metadata": {},
   "outputs": [
    {
     "data": {
      "text/plain": [
       "0     1614.00\n",
       "1      596.85\n",
       "2     1040.13\n",
       "3    37752.64\n",
       "4    21728.98\n",
       "Name: total_wages, dtype: float64"
      ]
     },
     "execution_count": 7,
     "metadata": {},
     "output_type": "execute_result"
    }
   ],
   "source": [
    "y.head()"
   ]
  },
  {
   "cell_type": "code",
   "execution_count": 8,
   "metadata": {},
   "outputs": [],
   "source": [
    "plotting_data = X_train"
   ]
  },
  {
   "cell_type": "code",
   "execution_count": 9,
   "metadata": {},
   "outputs": [],
   "source": [
    "plotting_data['wages'] = y"
   ]
  },
  {
   "cell_type": "code",
   "execution_count": 10,
   "metadata": {},
   "outputs": [
    {
     "data": {
      "image/png": "[encoded data removed]",
      "text/plain": [
       "<Figure size 720x720 with 1 Axes>"
      ]
     },
     "metadata": {
      "needs_background": "light"
     },
     "output_type": "display_data"
    }
   ],
   "source": [
    "plt.figure(figsize=(10,10))\n",
    "fig = sns.scatterplot(x='employer',y='wages',data=plotting_data)"
   ]
  },
  {
   "cell_type": "code",
   "execution_count": 11,
   "metadata": {},
   "outputs": [
    {
     "data": {
      "text/plain": [
       "<matplotlib.axes._subplots.AxesSubplot at 0x7f1aefe22d90>"
      ]
     },
     "execution_count": 11,
     "metadata": {},
     "output_type": "execute_result"
    },
    {
     "data": {
      "image/png": "[encoded data removed]",
      "text/plain": [
       "<Figure size 720x720 with 2 Axes>"
      ]
     },
     "metadata": {
      "needs_background": "light"
     },
     "output_type": "display_data"
    }
   ],
   "source": [
    "f,ax = plt.subplots(figsize=(10, 50))\n",
    "sns.heatmap(plotting_data.corr(), annot=True, linewidths=.5, fmt= '.1f',ax=ax)"
   ]
  },
  {
   "cell_type": "code",
   "execution_count": 12,
   "metadata": {},
   "outputs": [
    {
     "data": {
      "text/plain": [
       "employer                   23000\n",
       "min_pos_salary             23000\n",
       "max_pos_salary             23000\n",
       "overtime_pay               23000\n",
       "lump_sum_pay               20442\n",
       "other_pay                  23000\n",
       "retirement_cost_covered    12905\n",
       "health_benefits            23000\n",
       "pension                    12444\n",
       "employer_url               23000\n",
       "location                   16805\n",
       "Age                        23000\n",
       "wages                      23000\n",
       "dtype: int64"
      ]
     },
     "execution_count": 12,
     "metadata": {},
     "output_type": "execute_result"
    }
   ],
   "source": [
    "plotting_data.count()"
   ]
  },
  {
   "cell_type": "code",
   "execution_count": 13,
   "metadata": {},
   "outputs": [],
   "source": [
    "feature_predict_data = X_train"
   ]
  },
  {
   "cell_type": "code",
   "execution_count": 14,
   "metadata": {},
   "outputs": [],
   "source": [
    "X_train.drop(labels=['Age','wages','location','employer_url','employer'],axis = 1,inplace=True)"
   ]
  },
  {
   "cell_type": "code",
   "execution_count": 15,
   "metadata": {},
   "outputs": [
    {
     "data": {
      "text/plain": [
       "min_pos_salary             23000\n",
       "max_pos_salary             23000\n",
       "overtime_pay               23000\n",
       "lump_sum_pay               20442\n",
       "other_pay                  23000\n",
       "retirement_cost_covered    12905\n",
       "health_benefits            23000\n",
       "pension                    12444\n",
       "dtype: int64"
      ]
     },
     "execution_count": 15,
     "metadata": {},
     "output_type": "execute_result"
    }
   ],
   "source": [
    "X_train.count()"
   ]
  },
  {
   "cell_type": "code",
   "execution_count": 16,
   "metadata": {},
   "outputs": [],
   "source": [
    "from sklearn.experimental import enable_iterative_imputer \n",
    "from sklearn.impute import IterativeImputer\n"
   ]
  },
  {
   "cell_type": "code",
   "execution_count": 17,
   "metadata": {},
   "outputs": [],
   "source": [
    "X_test.drop(labels=['Age','location','employer_url','employer'],axis = 1,inplace=True)"
   ]
  },
  {
   "cell_type": "code",
   "execution_count": 18,
   "metadata": {},
   "outputs": [],
   "source": [
    "predictor = IterativeImputer(initial_strategy='median')"
   ]
  },
  {
   "cell_type": "code",
   "execution_count": 19,
   "metadata": {},
   "outputs": [
    {
     "data": {
      "text/plain": [
       "IterativeImputer(add_indicator=False, estimator=None,\n",
       "                 imputation_order='ascending', initial_strategy='median',\n",
       "                 max_iter=10, max_value=None, min_value=None,\n",
       "                 missing_values=nan, n_nearest_features=None, random_state=None,\n",
       "                 sample_posterior=False, tol=0.001, verbose=0)"
      ]
     },
     "execution_count": 19,
     "metadata": {},
     "output_type": "execute_result"
    }
   ],
   "source": [
    "predictor.fit(X_train)"
   ]
  },
  {
   "cell_type": "code",
   "execution_count": 20,
   "metadata": {},
   "outputs": [],
   "source": [
    "X_train = predictor.transform(X_train)"
   ]
  },
  {
   "cell_type": "code",
   "execution_count": 21,
   "metadata": {},
   "outputs": [],
   "source": [
    "X_test = predictor.transform(X_test)"
   ]
  },
  {
   "cell_type": "code",
   "execution_count": 22,
   "metadata": {},
   "outputs": [],
   "source": [
    "from sklearn import preprocessing"
   ]
  },
  {
   "cell_type": "code",
   "execution_count": 23,
   "metadata": {},
   "outputs": [],
   "source": [
    "ss = preprocessing.StandardScaler()"
   ]
  },
  {
   "cell_type": "code",
   "execution_count": 24,
   "metadata": {},
   "outputs": [],
   "source": [
    "X_train = ss.fit_transform(X_train)"
   ]
  },
  {
   "cell_type": "code",
   "execution_count": 25,
   "metadata": {},
   "outputs": [],
   "source": [
    "X_test = ss.fit_transform(X_test)"
   ]
  },
  {
   "cell_type": "code",
   "execution_count": 26,
   "metadata": {},
   "outputs": [],
   "source": [
    "from sklearn.model_selection import train_test_split"
   ]
  },
  {
   "cell_type": "code",
   "execution_count": 27,
   "metadata": {},
   "outputs": [],
   "source": [
    "x_train,x_cross,y_train,y_cross = train_test_split(X_train,y.to_numpy(),test_size = 0.2,random_state=42)"
   ]
  },
  {
   "cell_type": "code",
   "execution_count": 35,
   "metadata": {},
   "outputs": [],
   "source": [
    "#from sklearn.linear_model import LinearRegression\n",
    "#model  = LinearRegression()\n",
    "from tensorflow.python.keras.models import Sequential\n",
    "from tensorflow.python.keras.layers import Dense\n",
    "from tensorflow.python.keras.wrappers.scikit_learn import KerasRegressor\n",
    "\n",
    "import tensorflow as tf\n",
    "model = tf.keras.Sequential([Dense(8,activation='relu'),\n",
    "                             Dense(1,activation='linear')])\n",
    "#model.summary()"
   ]
  },
  {
   "cell_type": "code",
   "execution_count": 38,
   "metadata": {},
   "outputs": [
    {
     "name": "stdout",
     "output_type": "stream",
     "text": [
      "Epoch 1/150\n",
      "18400/18400 [==============================] - 0s 21us/sample - loss: 1224339491.4922 - mean_squared_error: 1224339328.0000 - acc: 0.0000e+00\n",
      "Epoch 2/150\n",
      "18400/18400 [==============================] - 0s 19us/sample - loss: 1184534008.5148 - mean_squared_error: 1184534016.0000 - acc: 0.0000e+00\n",
      "Epoch 3/150\n",
      "18400/18400 [==============================] - 0s 19us/sample - loss: 1144365410.5043 - mean_squared_error: 1144365824.0000 - acc: 0.0000e+00\n",
      "Epoch 4/150\n",
      "18400/18400 [==============================] - 0s 19us/sample - loss: 1104682424.4870 - mean_squared_error: 1104682240.0000 - acc: 0.0000e+00\n",
      "Epoch 5/150\n",
      "18400/18400 [==============================] - 0s 20us/sample - loss: 1065567219.8400 - mean_squared_error: 1065567808.0000 - acc: 0.0000e+00\n",
      "Epoch 6/150\n",
      "18400/18400 [==============================] - 0s 20us/sample - loss: 1026860444.9113 - mean_squared_error: 1026861120.0000 - acc: 0.0000e+00\n",
      "Epoch 7/150\n",
      "18400/18400 [==============================] - 0s 19us/sample - loss: 988713482.9357 - mean_squared_error: 988713728.0000 - acc: 0.0000e+00\n",
      "Epoch 8/150\n",
      "18400/18400 [==============================] - 0s 19us/sample - loss: 951089709.6904 - mean_squared_error: 951089408.0000 - acc: 0.0000e+00\n",
      "Epoch 9/150\n",
      "18400/18400 [==============================] - 0s 20us/sample - loss: 914087943.6383 - mean_squared_error: 914088064.0000 - acc: 0.0000e+00s - loss: 902248899.4034 - mean_squared_error: 902248960.0000 - acc: 0.00\n",
      "Epoch 10/150\n",
      "18400/18400 [==============================] - 0s 21us/sample - loss: 877661066.2678 - mean_squared_error: 877661504.0000 - acc: 0.0000e+00\n",
      "Epoch 11/150\n",
      "18400/18400 [==============================] - 0s 19us/sample - loss: 841998431.4713 - mean_squared_error: 841998272.0000 - acc: 0.0000e+00\n",
      "Epoch 12/150\n",
      "18400/18400 [==============================] - 0s 19us/sample - loss: 807277684.1739 - mean_squared_error: 807278080.0000 - acc: 0.0000e+00\n",
      "Epoch 13/150\n",
      "18400/18400 [==============================] - 0s 19us/sample - loss: 773339138.0730 - mean_squared_error: 773339520.0000 - acc: 0.0000e+00\n",
      "Epoch 14/150\n",
      "18400/18400 [==============================] - 0s 19us/sample - loss: 740361698.5878 - mean_squared_error: 740361472.0000 - acc: 0.0000e+00\n",
      "Epoch 15/150\n",
      "18400/18400 [==============================] - 0s 19us/sample - loss: 708391985.0852 - mean_squared_error: 708392000.0000 - acc: 0.0000e+00\n",
      "Epoch 16/150\n",
      "18400/18400 [==============================] - 0s 19us/sample - loss: 677329364.7026 - mean_squared_error: 677329536.0000 - acc: 0.0000e+00\n",
      "Epoch 17/150\n",
      "18400/18400 [==============================] - 0s 19us/sample - loss: 647561251.0887 - mean_squared_error: 647561280.0000 - acc: 0.0000e+00\n",
      "Epoch 18/150\n",
      "18400/18400 [==============================] - 0s 19us/sample - loss: 619053037.0087 - mean_squared_error: 619052992.0000 - acc: 0.0000e+00\n",
      "Epoch 19/150\n",
      "18400/18400 [==============================] - 0s 19us/sample - loss: 591729751.6522 - mean_squared_error: 591729664.0000 - acc: 0.0000e+00\n",
      "Epoch 20/150\n",
      "10016/18400 [===============>..............] - ETA: 0s - loss: 563403191.7955 - mean_squared_error: 563402944.0000 - acc: 0.0000e+00"
     ]
    },
    {
     "ename": "KeyboardInterrupt",
     "evalue": "",
     "output_type": "error",
     "traceback": [
      "\u001b[0;31m---------------------------------------------------------------------------\u001b[0m",
      "\u001b[0;31mKeyboardInterrupt\u001b[0m                         Traceback (most recent call last)",
      "\u001b[0;32m<ipython-input-38-497c69928d6f>\u001b[0m in \u001b[0;36m<module>\u001b[0;34m\u001b[0m\n\u001b[1;32m      4\u001b[0m \u001b[0mmodel\u001b[0m\u001b[0;34m.\u001b[0m\u001b[0mcompile\u001b[0m\u001b[0;34m(\u001b[0m\u001b[0mloss\u001b[0m\u001b[0;34m=\u001b[0m\u001b[0;34m'mse'\u001b[0m\u001b[0;34m,\u001b[0m\u001b[0moptimizer\u001b[0m\u001b[0;34m=\u001b[0m\u001b[0;34m'adam'\u001b[0m\u001b[0;34m,\u001b[0m\u001b[0mmetrics\u001b[0m\u001b[0;34m=\u001b[0m\u001b[0;34m[\u001b[0m\u001b[0;34m'mse'\u001b[0m\u001b[0;34m,\u001b[0m\u001b[0;34m'accuracy'\u001b[0m\u001b[0;34m]\u001b[0m\u001b[0;34m)\u001b[0m\u001b[0;34m\u001b[0m\u001b[0;34m\u001b[0m\u001b[0m\n\u001b[1;32m      5\u001b[0m \u001b[0;34m\u001b[0m\u001b[0m\n\u001b[0;32m----> 6\u001b[0;31m \u001b[0mhistory\u001b[0m \u001b[0;34m=\u001b[0m \u001b[0mmodel\u001b[0m\u001b[0;34m.\u001b[0m\u001b[0mfit\u001b[0m\u001b[0;34m(\u001b[0m\u001b[0mx_train\u001b[0m\u001b[0;34m,\u001b[0m\u001b[0my_train\u001b[0m\u001b[0;34m,\u001b[0m\u001b[0mepochs\u001b[0m\u001b[0;34m=\u001b[0m\u001b[0;36m150\u001b[0m\u001b[0;34m)\u001b[0m\u001b[0;34m\u001b[0m\u001b[0;34m\u001b[0m\u001b[0m\n\u001b[0m",
      "\u001b[0;32m/usr/lib/python3.7/site-packages/tensorflow/python/keras/engine/training.py\u001b[0m in \u001b[0;36mfit\u001b[0;34m(self, x, y, batch_size, epochs, verbose, callbacks, validation_split, validation_data, shuffle, class_weight, sample_weight, initial_epoch, steps_per_epoch, validation_steps, validation_freq, max_queue_size, workers, use_multiprocessing, **kwargs)\u001b[0m\n\u001b[1;32m    778\u001b[0m           \u001b[0mvalidation_steps\u001b[0m\u001b[0;34m=\u001b[0m\u001b[0mvalidation_steps\u001b[0m\u001b[0;34m,\u001b[0m\u001b[0;34m\u001b[0m\u001b[0;34m\u001b[0m\u001b[0m\n\u001b[1;32m    779\u001b[0m           \u001b[0mvalidation_freq\u001b[0m\u001b[0;34m=\u001b[0m\u001b[0mvalidation_freq\u001b[0m\u001b[0;34m,\u001b[0m\u001b[0;34m\u001b[0m\u001b[0;34m\u001b[0m\u001b[0m\n\u001b[0;32m--> 780\u001b[0;31m           steps_name='steps_per_epoch')\n\u001b[0m\u001b[1;32m    781\u001b[0m \u001b[0;34m\u001b[0m\u001b[0m\n\u001b[1;32m    782\u001b[0m   def evaluate(self,\n",
      "\u001b[0;32m/usr/lib/python3.7/site-packages/tensorflow/python/keras/engine/training_arrays.py\u001b[0m in \u001b[0;36mmodel_iteration\u001b[0;34m(model, inputs, targets, sample_weights, batch_size, epochs, verbose, callbacks, val_inputs, val_targets, val_sample_weights, shuffle, initial_epoch, steps_per_epoch, validation_steps, validation_freq, mode, validation_in_fit, prepared_feed_values_from_dataset, steps_name, **kwargs)\u001b[0m\n\u001b[1;32m    357\u001b[0m         \u001b[0;31m# Callbacks batch_begin.\u001b[0m\u001b[0;34m\u001b[0m\u001b[0;34m\u001b[0m\u001b[0;34m\u001b[0m\u001b[0m\n\u001b[1;32m    358\u001b[0m         \u001b[0mbatch_logs\u001b[0m \u001b[0;34m=\u001b[0m \u001b[0;34m{\u001b[0m\u001b[0;34m'batch'\u001b[0m\u001b[0;34m:\u001b[0m \u001b[0mbatch_index\u001b[0m\u001b[0;34m,\u001b[0m \u001b[0;34m'size'\u001b[0m\u001b[0;34m:\u001b[0m \u001b[0mlen\u001b[0m\u001b[0;34m(\u001b[0m\u001b[0mbatch_ids\u001b[0m\u001b[0;34m)\u001b[0m\u001b[0;34m}\u001b[0m\u001b[0;34m\u001b[0m\u001b[0;34m\u001b[0m\u001b[0m\n\u001b[0;32m--> 359\u001b[0;31m         \u001b[0mcallbacks\u001b[0m\u001b[0;34m.\u001b[0m\u001b[0m_call_batch_hook\u001b[0m\u001b[0;34m(\u001b[0m\u001b[0mmode\u001b[0m\u001b[0;34m,\u001b[0m \u001b[0;34m'begin'\u001b[0m\u001b[0;34m,\u001b[0m \u001b[0mbatch_index\u001b[0m\u001b[0;34m,\u001b[0m \u001b[0mbatch_logs\u001b[0m\u001b[0;34m)\u001b[0m\u001b[0;34m\u001b[0m\u001b[0;34m\u001b[0m\u001b[0m\n\u001b[0m\u001b[1;32m    360\u001b[0m         \u001b[0mprogbar\u001b[0m\u001b[0;34m.\u001b[0m\u001b[0mon_batch_begin\u001b[0m\u001b[0;34m(\u001b[0m\u001b[0mbatch_index\u001b[0m\u001b[0;34m,\u001b[0m \u001b[0mbatch_logs\u001b[0m\u001b[0;34m)\u001b[0m\u001b[0;34m\u001b[0m\u001b[0;34m\u001b[0m\u001b[0m\n\u001b[1;32m    361\u001b[0m \u001b[0;34m\u001b[0m\u001b[0m\n",
      "\u001b[0;32m/usr/lib/python3.7/site-packages/tensorflow/python/keras/callbacks.py\u001b[0m in \u001b[0;36m_call_batch_hook\u001b[0;34m(self, mode, hook, batch, logs)\u001b[0m\n\u001b[1;32m    249\u001b[0m     \u001b[0mself\u001b[0m\u001b[0;34m.\u001b[0m\u001b[0m_delta_ts\u001b[0m\u001b[0;34m[\u001b[0m\u001b[0mhook_name\u001b[0m\u001b[0;34m]\u001b[0m\u001b[0;34m.\u001b[0m\u001b[0mappend\u001b[0m\u001b[0;34m(\u001b[0m\u001b[0mtime\u001b[0m\u001b[0;34m.\u001b[0m\u001b[0mtime\u001b[0m\u001b[0;34m(\u001b[0m\u001b[0;34m)\u001b[0m \u001b[0;34m-\u001b[0m \u001b[0mt_before_callbacks\u001b[0m\u001b[0;34m)\u001b[0m\u001b[0;34m\u001b[0m\u001b[0;34m\u001b[0m\u001b[0m\n\u001b[1;32m    250\u001b[0m \u001b[0;34m\u001b[0m\u001b[0m\n\u001b[0;32m--> 251\u001b[0;31m     \u001b[0mdelta_t_median\u001b[0m \u001b[0;34m=\u001b[0m \u001b[0mnp\u001b[0m\u001b[0;34m.\u001b[0m\u001b[0mmedian\u001b[0m\u001b[0;34m(\u001b[0m\u001b[0mself\u001b[0m\u001b[0;34m.\u001b[0m\u001b[0m_delta_ts\u001b[0m\u001b[0;34m[\u001b[0m\u001b[0mhook_name\u001b[0m\u001b[0;34m]\u001b[0m\u001b[0;34m)\u001b[0m\u001b[0;34m\u001b[0m\u001b[0;34m\u001b[0m\u001b[0m\n\u001b[0m\u001b[1;32m    252\u001b[0m     if (self._delta_t_batch > 0. and\n\u001b[1;32m    253\u001b[0m         delta_t_median > 0.95 * self._delta_t_batch and delta_t_median > 0.1):\n",
      "\u001b[0;32m<__array_function__ internals>\u001b[0m in \u001b[0;36mmedian\u001b[0;34m(*args, **kwargs)\u001b[0m\n",
      "\u001b[0;32m/usr/lib/python3.7/site-packages/numpy/lib/function_base.py\u001b[0m in \u001b[0;36mmedian\u001b[0;34m(a, axis, out, overwrite_input, keepdims)\u001b[0m\n\u001b[1;32m   3500\u001b[0m     \"\"\"\n\u001b[1;32m   3501\u001b[0m     r, k = _ureduce(a, func=_median, axis=axis, out=out,\n\u001b[0;32m-> 3502\u001b[0;31m                     overwrite_input=overwrite_input)\n\u001b[0m\u001b[1;32m   3503\u001b[0m     \u001b[0;32mif\u001b[0m \u001b[0mkeepdims\u001b[0m\u001b[0;34m:\u001b[0m\u001b[0;34m\u001b[0m\u001b[0;34m\u001b[0m\u001b[0m\n\u001b[1;32m   3504\u001b[0m         \u001b[0;32mreturn\u001b[0m \u001b[0mr\u001b[0m\u001b[0;34m.\u001b[0m\u001b[0mreshape\u001b[0m\u001b[0;34m(\u001b[0m\u001b[0mk\u001b[0m\u001b[0;34m)\u001b[0m\u001b[0;34m\u001b[0m\u001b[0;34m\u001b[0m\u001b[0m\n",
      "\u001b[0;32m/usr/lib/python3.7/site-packages/numpy/lib/function_base.py\u001b[0m in \u001b[0;36m_ureduce\u001b[0;34m(a, func, **kwargs)\u001b[0m\n\u001b[1;32m   3408\u001b[0m         \u001b[0mkeepdim\u001b[0m \u001b[0;34m=\u001b[0m \u001b[0;34m(\u001b[0m\u001b[0;36m1\u001b[0m\u001b[0;34m,\u001b[0m\u001b[0;34m)\u001b[0m \u001b[0;34m*\u001b[0m \u001b[0ma\u001b[0m\u001b[0;34m.\u001b[0m\u001b[0mndim\u001b[0m\u001b[0;34m\u001b[0m\u001b[0;34m\u001b[0m\u001b[0m\n\u001b[1;32m   3409\u001b[0m \u001b[0;34m\u001b[0m\u001b[0m\n\u001b[0;32m-> 3410\u001b[0;31m     \u001b[0mr\u001b[0m \u001b[0;34m=\u001b[0m \u001b[0mfunc\u001b[0m\u001b[0;34m(\u001b[0m\u001b[0ma\u001b[0m\u001b[0;34m,\u001b[0m \u001b[0;34m**\u001b[0m\u001b[0mkwargs\u001b[0m\u001b[0;34m)\u001b[0m\u001b[0;34m\u001b[0m\u001b[0;34m\u001b[0m\u001b[0m\n\u001b[0m\u001b[1;32m   3411\u001b[0m     \u001b[0;32mreturn\u001b[0m \u001b[0mr\u001b[0m\u001b[0;34m,\u001b[0m \u001b[0mkeepdim\u001b[0m\u001b[0;34m\u001b[0m\u001b[0;34m\u001b[0m\u001b[0m\n\u001b[1;32m   3412\u001b[0m \u001b[0;34m\u001b[0m\u001b[0m\n",
      "\u001b[0;32m/usr/lib/python3.7/site-packages/numpy/lib/function_base.py\u001b[0m in \u001b[0;36m_median\u001b[0;34m(a, axis, out, overwrite_input)\u001b[0m\n\u001b[1;32m   3553\u001b[0m     \u001b[0;32mif\u001b[0m \u001b[0mnp\u001b[0m\u001b[0;34m.\u001b[0m\u001b[0missubdtype\u001b[0m\u001b[0;34m(\u001b[0m\u001b[0ma\u001b[0m\u001b[0;34m.\u001b[0m\u001b[0mdtype\u001b[0m\u001b[0;34m,\u001b[0m \u001b[0mnp\u001b[0m\u001b[0;34m.\u001b[0m\u001b[0minexact\u001b[0m\u001b[0;34m)\u001b[0m \u001b[0;32mand\u001b[0m \u001b[0msz\u001b[0m \u001b[0;34m>\u001b[0m \u001b[0;36m0\u001b[0m\u001b[0;34m:\u001b[0m\u001b[0;34m\u001b[0m\u001b[0;34m\u001b[0m\u001b[0m\n\u001b[1;32m   3554\u001b[0m         \u001b[0;31m# warn and return nans like mean would\u001b[0m\u001b[0;34m\u001b[0m\u001b[0;34m\u001b[0m\u001b[0;34m\u001b[0m\u001b[0m\n\u001b[0;32m-> 3555\u001b[0;31m         \u001b[0mrout\u001b[0m \u001b[0;34m=\u001b[0m \u001b[0mmean\u001b[0m\u001b[0;34m(\u001b[0m\u001b[0mpart\u001b[0m\u001b[0;34m[\u001b[0m\u001b[0mindexer\u001b[0m\u001b[0;34m]\u001b[0m\u001b[0;34m,\u001b[0m \u001b[0maxis\u001b[0m\u001b[0;34m=\u001b[0m\u001b[0maxis\u001b[0m\u001b[0;34m,\u001b[0m \u001b[0mout\u001b[0m\u001b[0;34m=\u001b[0m\u001b[0mout\u001b[0m\u001b[0;34m)\u001b[0m\u001b[0;34m\u001b[0m\u001b[0;34m\u001b[0m\u001b[0m\n\u001b[0m\u001b[1;32m   3556\u001b[0m         \u001b[0;32mreturn\u001b[0m \u001b[0mnp\u001b[0m\u001b[0;34m.\u001b[0m\u001b[0mlib\u001b[0m\u001b[0;34m.\u001b[0m\u001b[0mutils\u001b[0m\u001b[0;34m.\u001b[0m\u001b[0m_median_nancheck\u001b[0m\u001b[0;34m(\u001b[0m\u001b[0mpart\u001b[0m\u001b[0;34m,\u001b[0m \u001b[0mrout\u001b[0m\u001b[0;34m,\u001b[0m \u001b[0maxis\u001b[0m\u001b[0;34m,\u001b[0m \u001b[0mout\u001b[0m\u001b[0;34m)\u001b[0m\u001b[0;34m\u001b[0m\u001b[0;34m\u001b[0m\u001b[0m\n\u001b[1;32m   3557\u001b[0m     \u001b[0;32melse\u001b[0m\u001b[0;34m:\u001b[0m\u001b[0;34m\u001b[0m\u001b[0;34m\u001b[0m\u001b[0m\n",
      "\u001b[0;32m<__array_function__ internals>\u001b[0m in \u001b[0;36mmean\u001b[0;34m(*args, **kwargs)\u001b[0m\n",
      "\u001b[0;32m/usr/lib/python3.7/site-packages/numpy/core/fromnumeric.py\u001b[0m in \u001b[0;36mmean\u001b[0;34m(a, axis, dtype, out, keepdims)\u001b[0m\n\u001b[1;32m   3255\u001b[0m \u001b[0;34m\u001b[0m\u001b[0m\n\u001b[1;32m   3256\u001b[0m     return _methods._mean(a, axis=axis, dtype=dtype,\n\u001b[0;32m-> 3257\u001b[0;31m                           out=out, **kwargs)\n\u001b[0m\u001b[1;32m   3258\u001b[0m \u001b[0;34m\u001b[0m\u001b[0m\n\u001b[1;32m   3259\u001b[0m \u001b[0;34m\u001b[0m\u001b[0m\n",
      "\u001b[0;32m/usr/lib/python3.7/site-packages/numpy/core/_methods.py\u001b[0m in \u001b[0;36m_mean\u001b[0;34m(a, axis, dtype, out, keepdims)\u001b[0m\n\u001b[1;32m    149\u001b[0m             \u001b[0mis_float16_result\u001b[0m \u001b[0;34m=\u001b[0m \u001b[0;32mTrue\u001b[0m\u001b[0;34m\u001b[0m\u001b[0;34m\u001b[0m\u001b[0m\n\u001b[1;32m    150\u001b[0m \u001b[0;34m\u001b[0m\u001b[0m\n\u001b[0;32m--> 151\u001b[0;31m     \u001b[0mret\u001b[0m \u001b[0;34m=\u001b[0m \u001b[0mumr_sum\u001b[0m\u001b[0;34m(\u001b[0m\u001b[0marr\u001b[0m\u001b[0;34m,\u001b[0m \u001b[0maxis\u001b[0m\u001b[0;34m,\u001b[0m \u001b[0mdtype\u001b[0m\u001b[0;34m,\u001b[0m \u001b[0mout\u001b[0m\u001b[0;34m,\u001b[0m \u001b[0mkeepdims\u001b[0m\u001b[0;34m)\u001b[0m\u001b[0;34m\u001b[0m\u001b[0;34m\u001b[0m\u001b[0m\n\u001b[0m\u001b[1;32m    152\u001b[0m     \u001b[0;32mif\u001b[0m \u001b[0misinstance\u001b[0m\u001b[0;34m(\u001b[0m\u001b[0mret\u001b[0m\u001b[0;34m,\u001b[0m \u001b[0mmu\u001b[0m\u001b[0;34m.\u001b[0m\u001b[0mndarray\u001b[0m\u001b[0;34m)\u001b[0m\u001b[0;34m:\u001b[0m\u001b[0;34m\u001b[0m\u001b[0;34m\u001b[0m\u001b[0m\n\u001b[1;32m    153\u001b[0m         ret = um.true_divide(\n",
      "\u001b[0;31mKeyboardInterrupt\u001b[0m: "
     ]
    }
   ],
   "source": [
    "#model.fit(x_train,y_train)\n",
    "\n",
    "#model.score(x_cross,y_cross)\n",
    "model.compile(loss='mse',optimizer='adam',metrics=['mse','accuracy'])\n",
    "\n",
    "history = model.fit(x_train,y_train,epochs=150)"
   ]
  },
  {
   "cell_type": "code",
   "execution_count": null,
   "metadata": {},
   "outputs": [],
   "source": [
    "y_ans = model.predict(X_test)"
   ]
  },
  {
   "cell_type": "code",
   "execution_count": null,
   "metadata": {},
   "outputs": [],
   "source": [
    "type(y_ans)"
   ]
  },
  {
   "cell_type": "code",
   "execution_count": null,
   "metadata": {},
   "outputs": [],
   "source": [
    "submission = pd.read_csv('sampleSubmission.csv')"
   ]
  },
  {
   "cell_type": "code",
   "execution_count": null,
   "metadata": {},
   "outputs": [],
   "source": [
    "y_a = pd.DataFrame(data=y_ans,columns=['total_wages'])"
   ]
  },
  {
   "cell_type": "code",
   "execution_count": null,
   "metadata": {},
   "outputs": [],
   "source": [
    "submission['total_wages'] = y_a['total_wages']"
   ]
  },
  {
   "cell_type": "code",
   "execution_count": null,
   "metadata": {},
   "outputs": [],
   "source": [
    "submission['total_wages']"
   ]
  },
  {
   "cell_type": "code",
   "execution_count": null,
   "metadata": {},
   "outputs": [],
   "source": [
    "submission.to_csv('submitme.csv',index=False)"
   ]
  },
  {
   "cell_type": "code",
   "execution_count": null,
   "metadata": {},
   "outputs": [],
   "source": []
  },
  {
   "cell_type": "code",
   "execution_count": 39,
   "metadata": {},
   "outputs": [
    {
     "data": {
      "text/plain": [
       "array([[ 0.97410344,  0.94352494, -0.09755153, ...,  0.04451843,\n",
       "         0.49113457,  0.17337646],\n",
       "       [-0.56577476, -0.22411581, -0.09755153, ..., -0.04745934,\n",
       "        -0.64416628, -0.48881811],\n",
       "       [-1.96104661, -1.36368309, -0.09755153, ..., -0.21494676,\n",
       "        -0.64416628, -1.08486592],\n",
       "       ...,\n",
       "       [ 0.25883988,  1.42422927, -0.09755153, ...,  0.57045598,\n",
       "        -0.19993287,  1.43161884],\n",
       "       [-1.24578305, -0.73116602, -0.09755153, ..., -0.25485893,\n",
       "        -0.64416628, -1.08486592],\n",
       "       [ 0.49785861, -0.22433176, -0.09755153, ..., -0.04745934,\n",
       "        -0.64416628,  0.17337646]])"
      ]
     },
     "execution_count": 39,
     "metadata": {},
     "output_type": "execute_result"
    }
   ],
   "source": [
    "x_train"
   ]
  },
  {
   "cell_type": "code",
   "execution_count": null,
   "metadata": {},
   "outputs": [],
   "source": []
  }
 ],
 "metadata": {
  "kernelspec": {
   "display_name": "Python 3",
   "language": "python",
   "name": "python3"
  },
  "language_info": {
   "codemirror_mode": {
    "name": "ipython",
    "version": 3
   },
   "file_extension": ".py",
   "mimetype": "text/x-python",
   "name": "python",
   "nbconvert_exporter": "python",
   "pygments_lexer": "ipython3",
   "version": "3.7.4"
  }
 },
 "nbformat": 4,
 "nbformat_minor": 2
}
