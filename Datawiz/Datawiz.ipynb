{
 "cells": [
  {
   "cell_type": "markdown",
   "metadata": {},
   "source": [
    "# import numpy as np\n",
    "import pandas as pd\n",
    "import seaborn as sns\n",
    "import matplotlib.pyplot as plt\n",
    "\n",
    "%matplotlib inline\n"
   ]
  },
  {
   "cell_type": "code",
   "execution_count": 2,
   "metadata": {},
   "outputs": [],
   "source": [
    "df1 = pd.read_csv('train.csv')\n",
    "df2 = pd.read_csv('test.csv')"
   ]
  },
  {
   "cell_type": "code",
   "execution_count": 3,
   "metadata": {},
   "outputs": [
    {
     "data": {
      "text/plain": [
       "Index(['Id', 'game_seq', 'season_end', 'date', 'season_game_seq', 'playoff',\n",
       "       'team_id', 'Elo', 'opp_team_id', 'opp_Elo', 'win_equivalent',\n",
       "       'bet_ratio', 'home_crowd', 'opp_crowd', 'total_crowd', 'game_result'],\n",
       "      dtype='object')"
      ]
     },
     "execution_count": 3,
     "metadata": {},
     "output_type": "execute_result"
    }
   ],
   "source": [
    "df1.columns"
   ]
  },
  {
   "cell_type": "code",
   "execution_count": 4,
   "metadata": {},
   "outputs": [
    {
     "data": {
      "text/html": [
       "<div>\n",
       "<style scoped>\n",
       "    .dataframe tbody tr th:only-of-type {\n",
       "        vertical-align: middle;\n",
       "    }\n",
       "\n",
       "    .dataframe tbody tr th {\n",
       "        vertical-align: top;\n",
       "    }\n",
       "\n",
       "    .dataframe thead th {\n",
       "        text-align: right;\n",
       "    }\n",
       "</style>\n",
       "<table border=\"1\" class=\"dataframe\">\n",
       "  <thead>\n",
       "    <tr style=\"text-align: right;\">\n",
       "      <th></th>\n",
       "      <th>Id</th>\n",
       "      <th>game_seq</th>\n",
       "      <th>season_end</th>\n",
       "      <th>date</th>\n",
       "      <th>season_game_seq</th>\n",
       "      <th>playoff</th>\n",
       "      <th>team_id</th>\n",
       "      <th>Elo</th>\n",
       "      <th>opp_team_id</th>\n",
       "      <th>opp_Elo</th>\n",
       "      <th>win_equivalent</th>\n",
       "      <th>bet_ratio</th>\n",
       "      <th>home_crowd</th>\n",
       "      <th>opp_crowd</th>\n",
       "      <th>total_crowd</th>\n",
       "      <th>game_result</th>\n",
       "    </tr>\n",
       "  </thead>\n",
       "  <tbody>\n",
       "    <tr>\n",
       "      <td>0</td>\n",
       "      <td>1</td>\n",
       "      <td>39323</td>\n",
       "      <td>1997</td>\n",
       "      <td>11/2/1996</td>\n",
       "      <td>2</td>\n",
       "      <td>False</td>\n",
       "      <td>team25</td>\n",
       "      <td>1511.6364</td>\n",
       "      <td>opp_team10</td>\n",
       "      <td>NaN</td>\n",
       "      <td>NaN</td>\n",
       "      <td>0.616437</td>\n",
       "      <td>6600</td>\n",
       "      <td>4800</td>\n",
       "      <td>11400</td>\n",
       "      <td>1</td>\n",
       "    </tr>\n",
       "    <tr>\n",
       "      <td>1</td>\n",
       "      <td>2</td>\n",
       "      <td>59211</td>\n",
       "      <td>2012</td>\n",
       "      <td>6/17/2012</td>\n",
       "      <td>87</td>\n",
       "      <td>True</td>\n",
       "      <td>team22</td>\n",
       "      <td>1690.4612</td>\n",
       "      <td>opp_team42</td>\n",
       "      <td>1732.2164</td>\n",
       "      <td>59.721931</td>\n",
       "      <td>0.583044</td>\n",
       "      <td>5600</td>\n",
       "      <td>4300</td>\n",
       "      <td>9900</td>\n",
       "      <td>0</td>\n",
       "    </tr>\n",
       "    <tr>\n",
       "      <td>2</td>\n",
       "      <td>3</td>\n",
       "      <td>60691</td>\n",
       "      <td>2014</td>\n",
       "      <td>11/20/2013</td>\n",
       "      <td>12</td>\n",
       "      <td>False</td>\n",
       "      <td>team18</td>\n",
       "      <td>1550.2258</td>\n",
       "      <td>opp_team11</td>\n",
       "      <td>NaN</td>\n",
       "      <td>NaN</td>\n",
       "      <td>0.606468</td>\n",
       "      <td>8600</td>\n",
       "      <td>3800</td>\n",
       "      <td>12400</td>\n",
       "      <td>0</td>\n",
       "    </tr>\n",
       "    <tr>\n",
       "      <td>3</td>\n",
       "      <td>4</td>\n",
       "      <td>31900</td>\n",
       "      <td>1990</td>\n",
       "      <td>3/29/1990</td>\n",
       "      <td>69</td>\n",
       "      <td>False</td>\n",
       "      <td>team12</td>\n",
       "      <td>NaN</td>\n",
       "      <td>opp_team17</td>\n",
       "      <td>1629.6985</td>\n",
       "      <td>39.305004</td>\n",
       "      <td>0.390694</td>\n",
       "      <td>7200</td>\n",
       "      <td>4000</td>\n",
       "      <td>11200</td>\n",
       "      <td>0</td>\n",
       "    </tr>\n",
       "    <tr>\n",
       "      <td>4</td>\n",
       "      <td>5</td>\n",
       "      <td>48134</td>\n",
       "      <td>2004</td>\n",
       "      <td>1/2/2004</td>\n",
       "      <td>30</td>\n",
       "      <td>False</td>\n",
       "      <td>team27</td>\n",
       "      <td>NaN</td>\n",
       "      <td>opp_team12</td>\n",
       "      <td>NaN</td>\n",
       "      <td>28.311192</td>\n",
       "      <td>0.492179</td>\n",
       "      <td>8600</td>\n",
       "      <td>4900</td>\n",
       "      <td>13500</td>\n",
       "      <td>0</td>\n",
       "    </tr>\n",
       "  </tbody>\n",
       "</table>\n",
       "</div>"
      ],
      "text/plain": [
       "   Id  game_seq  season_end        date  season_game_seq  playoff team_id  \\\n",
       "0   1     39323        1997   11/2/1996                2    False  team25   \n",
       "1   2     59211        2012   6/17/2012               87     True  team22   \n",
       "2   3     60691        2014  11/20/2013               12    False  team18   \n",
       "3   4     31900        1990   3/29/1990               69    False  team12   \n",
       "4   5     48134        2004    1/2/2004               30    False  team27   \n",
       "\n",
       "         Elo opp_team_id    opp_Elo  win_equivalent  bet_ratio  home_crowd  \\\n",
       "0  1511.6364  opp_team10        NaN             NaN   0.616437        6600   \n",
       "1  1690.4612  opp_team42  1732.2164       59.721931   0.583044        5600   \n",
       "2  1550.2258  opp_team11        NaN             NaN   0.606468        8600   \n",
       "3        NaN  opp_team17  1629.6985       39.305004   0.390694        7200   \n",
       "4        NaN  opp_team12        NaN       28.311192   0.492179        8600   \n",
       "\n",
       "   opp_crowd  total_crowd  game_result  \n",
       "0       4800        11400            1  \n",
       "1       4300         9900            0  \n",
       "2       3800        12400            0  \n",
       "3       4000        11200            0  \n",
       "4       4900        13500            0  "
      ]
     },
     "execution_count": 4,
     "metadata": {},
     "output_type": "execute_result"
    }
   ],
   "source": [
    "df1.head()"
   ]
  },
  {
   "cell_type": "code",
   "execution_count": 5,
   "metadata": {},
   "outputs": [],
   "source": [
    "df1['team_id'] = df1['team_id'].str.extract('(\\d+)').astype(int)\n",
    "df1['opp_team_id'] = df1['opp_team_id'].str.extract('(\\d+)').astype(int)\n",
    "df1['playoff'] = df1['playoff'].replace(False,0)\n",
    "\n",
    "df2['team_id'] = df2['team_id'].str.extract('(\\d+)').astype(int)\n",
    "df2['opp_team_id'] = df2['opp_team_id'].str.extract('(\\d+)').astype(int)\n",
    "df2['playoff'] = df2['playoff'].replace(False,0)"
   ]
  },
  {
   "cell_type": "code",
   "execution_count": 6,
   "metadata": {},
   "outputs": [
    {
     "data": {
      "text/html": [
       "<div>\n",
       "<style scoped>\n",
       "    .dataframe tbody tr th:only-of-type {\n",
       "        vertical-align: middle;\n",
       "    }\n",
       "\n",
       "    .dataframe tbody tr th {\n",
       "        vertical-align: top;\n",
       "    }\n",
       "\n",
       "    .dataframe thead th {\n",
       "        text-align: right;\n",
       "    }\n",
       "</style>\n",
       "<table border=\"1\" class=\"dataframe\">\n",
       "  <thead>\n",
       "    <tr style=\"text-align: right;\">\n",
       "      <th></th>\n",
       "      <th>Id</th>\n",
       "      <th>game_seq</th>\n",
       "      <th>season_end</th>\n",
       "      <th>date</th>\n",
       "      <th>season_game_seq</th>\n",
       "      <th>playoff</th>\n",
       "      <th>team_id</th>\n",
       "      <th>Elo</th>\n",
       "      <th>opp_team_id</th>\n",
       "      <th>opp_Elo</th>\n",
       "      <th>win_equivalent</th>\n",
       "      <th>bet_ratio</th>\n",
       "      <th>home_crowd</th>\n",
       "      <th>opp_crowd</th>\n",
       "      <th>total_crowd</th>\n",
       "      <th>game_result</th>\n",
       "    </tr>\n",
       "  </thead>\n",
       "  <tbody>\n",
       "    <tr>\n",
       "      <td>0</td>\n",
       "      <td>1</td>\n",
       "      <td>39323</td>\n",
       "      <td>1997</td>\n",
       "      <td>11/2/1996</td>\n",
       "      <td>2</td>\n",
       "      <td>0.0</td>\n",
       "      <td>25</td>\n",
       "      <td>1511.6364</td>\n",
       "      <td>10</td>\n",
       "      <td>NaN</td>\n",
       "      <td>NaN</td>\n",
       "      <td>0.616437</td>\n",
       "      <td>6600</td>\n",
       "      <td>4800</td>\n",
       "      <td>11400</td>\n",
       "      <td>1</td>\n",
       "    </tr>\n",
       "    <tr>\n",
       "      <td>1</td>\n",
       "      <td>2</td>\n",
       "      <td>59211</td>\n",
       "      <td>2012</td>\n",
       "      <td>6/17/2012</td>\n",
       "      <td>87</td>\n",
       "      <td>1.0</td>\n",
       "      <td>22</td>\n",
       "      <td>1690.4612</td>\n",
       "      <td>42</td>\n",
       "      <td>1732.2164</td>\n",
       "      <td>59.721931</td>\n",
       "      <td>0.583044</td>\n",
       "      <td>5600</td>\n",
       "      <td>4300</td>\n",
       "      <td>9900</td>\n",
       "      <td>0</td>\n",
       "    </tr>\n",
       "    <tr>\n",
       "      <td>2</td>\n",
       "      <td>3</td>\n",
       "      <td>60691</td>\n",
       "      <td>2014</td>\n",
       "      <td>11/20/2013</td>\n",
       "      <td>12</td>\n",
       "      <td>0.0</td>\n",
       "      <td>18</td>\n",
       "      <td>1550.2258</td>\n",
       "      <td>11</td>\n",
       "      <td>NaN</td>\n",
       "      <td>NaN</td>\n",
       "      <td>0.606468</td>\n",
       "      <td>8600</td>\n",
       "      <td>3800</td>\n",
       "      <td>12400</td>\n",
       "      <td>0</td>\n",
       "    </tr>\n",
       "    <tr>\n",
       "      <td>3</td>\n",
       "      <td>4</td>\n",
       "      <td>31900</td>\n",
       "      <td>1990</td>\n",
       "      <td>3/29/1990</td>\n",
       "      <td>69</td>\n",
       "      <td>0.0</td>\n",
       "      <td>12</td>\n",
       "      <td>NaN</td>\n",
       "      <td>17</td>\n",
       "      <td>1629.6985</td>\n",
       "      <td>39.305004</td>\n",
       "      <td>0.390694</td>\n",
       "      <td>7200</td>\n",
       "      <td>4000</td>\n",
       "      <td>11200</td>\n",
       "      <td>0</td>\n",
       "    </tr>\n",
       "    <tr>\n",
       "      <td>4</td>\n",
       "      <td>5</td>\n",
       "      <td>48134</td>\n",
       "      <td>2004</td>\n",
       "      <td>1/2/2004</td>\n",
       "      <td>30</td>\n",
       "      <td>0.0</td>\n",
       "      <td>27</td>\n",
       "      <td>NaN</td>\n",
       "      <td>12</td>\n",
       "      <td>NaN</td>\n",
       "      <td>28.311192</td>\n",
       "      <td>0.492179</td>\n",
       "      <td>8600</td>\n",
       "      <td>4900</td>\n",
       "      <td>13500</td>\n",
       "      <td>0</td>\n",
       "    </tr>\n",
       "  </tbody>\n",
       "</table>\n",
       "</div>"
      ],
      "text/plain": [
       "   Id  game_seq  season_end        date  season_game_seq  playoff  team_id  \\\n",
       "0   1     39323        1997   11/2/1996                2      0.0       25   \n",
       "1   2     59211        2012   6/17/2012               87      1.0       22   \n",
       "2   3     60691        2014  11/20/2013               12      0.0       18   \n",
       "3   4     31900        1990   3/29/1990               69      0.0       12   \n",
       "4   5     48134        2004    1/2/2004               30      0.0       27   \n",
       "\n",
       "         Elo  opp_team_id    opp_Elo  win_equivalent  bet_ratio  home_crowd  \\\n",
       "0  1511.6364           10        NaN             NaN   0.616437        6600   \n",
       "1  1690.4612           42  1732.2164       59.721931   0.583044        5600   \n",
       "2  1550.2258           11        NaN             NaN   0.606468        8600   \n",
       "3        NaN           17  1629.6985       39.305004   0.390694        7200   \n",
       "4        NaN           12        NaN       28.311192   0.492179        8600   \n",
       "\n",
       "   opp_crowd  total_crowd  game_result  \n",
       "0       4800        11400            1  \n",
       "1       4300         9900            0  \n",
       "2       3800        12400            0  \n",
       "3       4000        11200            0  \n",
       "4       4900        13500            0  "
      ]
     },
     "execution_count": 6,
     "metadata": {},
     "output_type": "execute_result"
    }
   ],
   "source": [
    "df1.head()"
   ]
  },
  {
   "cell_type": "code",
   "execution_count": 7,
   "metadata": {},
   "outputs": [
    {
     "name": "stderr",
     "output_type": "stream",
     "text": [
      "/usr/lib/python3.7/site-packages/tensorflow/python/framework/dtypes.py:516: FutureWarning: Passing (type, 1) or '1type' as a synonym of type is deprecated; in a future version of numpy, it will be understood as (type, (1,)) / '(1,)type'.\n",
      "  _np_qint8 = np.dtype([(\"qint8\", np.int8, 1)])\n",
      "/usr/lib/python3.7/site-packages/tensorflow/python/framework/dtypes.py:517: FutureWarning: Passing (type, 1) or '1type' as a synonym of type is deprecated; in a future version of numpy, it will be understood as (type, (1,)) / '(1,)type'.\n",
      "  _np_quint8 = np.dtype([(\"quint8\", np.uint8, 1)])\n",
      "/usr/lib/python3.7/site-packages/tensorflow/python/framework/dtypes.py:518: FutureWarning: Passing (type, 1) or '1type' as a synonym of type is deprecated; in a future version of numpy, it will be understood as (type, (1,)) / '(1,)type'.\n",
      "  _np_qint16 = np.dtype([(\"qint16\", np.int16, 1)])\n",
      "/usr/lib/python3.7/site-packages/tensorflow/python/framework/dtypes.py:519: FutureWarning: Passing (type, 1) or '1type' as a synonym of type is deprecated; in a future version of numpy, it will be understood as (type, (1,)) / '(1,)type'.\n",
      "  _np_quint16 = np.dtype([(\"quint16\", np.uint16, 1)])\n",
      "/usr/lib/python3.7/site-packages/tensorflow/python/framework/dtypes.py:520: FutureWarning: Passing (type, 1) or '1type' as a synonym of type is deprecated; in a future version of numpy, it will be understood as (type, (1,)) / '(1,)type'.\n",
      "  _np_qint32 = np.dtype([(\"qint32\", np.int32, 1)])\n",
      "/usr/lib/python3.7/site-packages/tensorflow/python/framework/dtypes.py:525: FutureWarning: Passing (type, 1) or '1type' as a synonym of type is deprecated; in a future version of numpy, it will be understood as (type, (1,)) / '(1,)type'.\n",
      "  np_resource = np.dtype([(\"resource\", np.ubyte, 1)])\n",
      "/usr/lib/python3.7/site-packages/tensorboard/compat/tensorflow_stub/dtypes.py:541: FutureWarning: Passing (type, 1) or '1type' as a synonym of type is deprecated; in a future version of numpy, it will be understood as (type, (1,)) / '(1,)type'.\n",
      "  _np_qint8 = np.dtype([(\"qint8\", np.int8, 1)])\n",
      "/usr/lib/python3.7/site-packages/tensorboard/compat/tensorflow_stub/dtypes.py:542: FutureWarning: Passing (type, 1) or '1type' as a synonym of type is deprecated; in a future version of numpy, it will be understood as (type, (1,)) / '(1,)type'.\n",
      "  _np_quint8 = np.dtype([(\"quint8\", np.uint8, 1)])\n",
      "/usr/lib/python3.7/site-packages/tensorboard/compat/tensorflow_stub/dtypes.py:543: FutureWarning: Passing (type, 1) or '1type' as a synonym of type is deprecated; in a future version of numpy, it will be understood as (type, (1,)) / '(1,)type'.\n",
      "  _np_qint16 = np.dtype([(\"qint16\", np.int16, 1)])\n",
      "/usr/lib/python3.7/site-packages/tensorboard/compat/tensorflow_stub/dtypes.py:544: FutureWarning: Passing (type, 1) or '1type' as a synonym of type is deprecated; in a future version of numpy, it will be understood as (type, (1,)) / '(1,)type'.\n",
      "  _np_quint16 = np.dtype([(\"quint16\", np.uint16, 1)])\n",
      "/usr/lib/python3.7/site-packages/tensorboard/compat/tensorflow_stub/dtypes.py:545: FutureWarning: Passing (type, 1) or '1type' as a synonym of type is deprecated; in a future version of numpy, it will be understood as (type, (1,)) / '(1,)type'.\n",
      "  _np_qint32 = np.dtype([(\"qint32\", np.int32, 1)])\n",
      "/usr/lib/python3.7/site-packages/tensorboard/compat/tensorflow_stub/dtypes.py:550: FutureWarning: Passing (type, 1) or '1type' as a synonym of type is deprecated; in a future version of numpy, it will be understood as (type, (1,)) / '(1,)type'.\n",
      "  np_resource = np.dtype([(\"resource\", np.ubyte, 1)])\n"
     ]
    }
   ],
   "source": [
    "import tensorflow as tf"
   ]
  },
  {
   "cell_type": "code",
   "execution_count": 8,
   "metadata": {},
   "outputs": [],
   "source": [
    "train_data = df1.drop(labels=['Id','team_id','opp_team_id','game_seq','total_crowd'],axis = 1)\n",
    "test_data = df2.drop(labels=['Id','team_id','opp_team_id','game_seq','total_crowd'],axis = 1)"
   ]
  },
  {
   "cell_type": "code",
   "execution_count": 9,
   "metadata": {},
   "outputs": [
    {
     "data": {
      "text/html": [
       "<div>\n",
       "<style scoped>\n",
       "    .dataframe tbody tr th:only-of-type {\n",
       "        vertical-align: middle;\n",
       "    }\n",
       "\n",
       "    .dataframe tbody tr th {\n",
       "        vertical-align: top;\n",
       "    }\n",
       "\n",
       "    .dataframe thead th {\n",
       "        text-align: right;\n",
       "    }\n",
       "</style>\n",
       "<table border=\"1\" class=\"dataframe\">\n",
       "  <thead>\n",
       "    <tr style=\"text-align: right;\">\n",
       "      <th></th>\n",
       "      <th>season_end</th>\n",
       "      <th>date</th>\n",
       "      <th>season_game_seq</th>\n",
       "      <th>playoff</th>\n",
       "      <th>Elo</th>\n",
       "      <th>opp_Elo</th>\n",
       "      <th>win_equivalent</th>\n",
       "      <th>bet_ratio</th>\n",
       "      <th>home_crowd</th>\n",
       "      <th>opp_crowd</th>\n",
       "      <th>game_result</th>\n",
       "    </tr>\n",
       "  </thead>\n",
       "  <tbody>\n",
       "    <tr>\n",
       "      <td>0</td>\n",
       "      <td>1997</td>\n",
       "      <td>11/2/1996</td>\n",
       "      <td>2</td>\n",
       "      <td>0.0</td>\n",
       "      <td>1511.6364</td>\n",
       "      <td>NaN</td>\n",
       "      <td>NaN</td>\n",
       "      <td>0.616437</td>\n",
       "      <td>6600</td>\n",
       "      <td>4800</td>\n",
       "      <td>1</td>\n",
       "    </tr>\n",
       "    <tr>\n",
       "      <td>1</td>\n",
       "      <td>2012</td>\n",
       "      <td>6/17/2012</td>\n",
       "      <td>87</td>\n",
       "      <td>1.0</td>\n",
       "      <td>1690.4612</td>\n",
       "      <td>1732.2164</td>\n",
       "      <td>59.721931</td>\n",
       "      <td>0.583044</td>\n",
       "      <td>5600</td>\n",
       "      <td>4300</td>\n",
       "      <td>0</td>\n",
       "    </tr>\n",
       "    <tr>\n",
       "      <td>2</td>\n",
       "      <td>2014</td>\n",
       "      <td>11/20/2013</td>\n",
       "      <td>12</td>\n",
       "      <td>0.0</td>\n",
       "      <td>1550.2258</td>\n",
       "      <td>NaN</td>\n",
       "      <td>NaN</td>\n",
       "      <td>0.606468</td>\n",
       "      <td>8600</td>\n",
       "      <td>3800</td>\n",
       "      <td>0</td>\n",
       "    </tr>\n",
       "    <tr>\n",
       "      <td>3</td>\n",
       "      <td>1990</td>\n",
       "      <td>3/29/1990</td>\n",
       "      <td>69</td>\n",
       "      <td>0.0</td>\n",
       "      <td>NaN</td>\n",
       "      <td>1629.6985</td>\n",
       "      <td>39.305004</td>\n",
       "      <td>0.390694</td>\n",
       "      <td>7200</td>\n",
       "      <td>4000</td>\n",
       "      <td>0</td>\n",
       "    </tr>\n",
       "    <tr>\n",
       "      <td>4</td>\n",
       "      <td>2004</td>\n",
       "      <td>1/2/2004</td>\n",
       "      <td>30</td>\n",
       "      <td>0.0</td>\n",
       "      <td>NaN</td>\n",
       "      <td>NaN</td>\n",
       "      <td>28.311192</td>\n",
       "      <td>0.492179</td>\n",
       "      <td>8600</td>\n",
       "      <td>4900</td>\n",
       "      <td>0</td>\n",
       "    </tr>\n",
       "  </tbody>\n",
       "</table>\n",
       "</div>"
      ],
      "text/plain": [
       "   season_end        date  season_game_seq  playoff        Elo    opp_Elo  \\\n",
       "0        1997   11/2/1996                2      0.0  1511.6364        NaN   \n",
       "1        2012   6/17/2012               87      1.0  1690.4612  1732.2164   \n",
       "2        2014  11/20/2013               12      0.0  1550.2258        NaN   \n",
       "3        1990   3/29/1990               69      0.0        NaN  1629.6985   \n",
       "4        2004    1/2/2004               30      0.0        NaN        NaN   \n",
       "\n",
       "   win_equivalent  bet_ratio  home_crowd  opp_crowd  game_result  \n",
       "0             NaN   0.616437        6600       4800            1  \n",
       "1       59.721931   0.583044        5600       4300            0  \n",
       "2             NaN   0.606468        8600       3800            0  \n",
       "3       39.305004   0.390694        7200       4000            0  \n",
       "4       28.311192   0.492179        8600       4900            0  "
      ]
     },
     "execution_count": 9,
     "metadata": {},
     "output_type": "execute_result"
    }
   ],
   "source": [
    "train_data.head()"
   ]
  },
  {
   "cell_type": "code",
   "execution_count": 10,
   "metadata": {},
   "outputs": [],
   "source": [
    "y_train = train_data['game_result']\n",
    "train_data = train_data.drop(labels=['game_result'],axis=1)"
   ]
  },
  {
   "cell_type": "code",
   "execution_count": 11,
   "metadata": {},
   "outputs": [
    {
     "data": {
      "text/html": [
       "<div>\n",
       "<style scoped>\n",
       "    .dataframe tbody tr th:only-of-type {\n",
       "        vertical-align: middle;\n",
       "    }\n",
       "\n",
       "    .dataframe tbody tr th {\n",
       "        vertical-align: top;\n",
       "    }\n",
       "\n",
       "    .dataframe thead th {\n",
       "        text-align: right;\n",
       "    }\n",
       "</style>\n",
       "<table border=\"1\" class=\"dataframe\">\n",
       "  <thead>\n",
       "    <tr style=\"text-align: right;\">\n",
       "      <th></th>\n",
       "      <th>season_end</th>\n",
       "      <th>date</th>\n",
       "      <th>season_game_seq</th>\n",
       "      <th>playoff</th>\n",
       "      <th>Elo</th>\n",
       "      <th>opp_Elo</th>\n",
       "      <th>win_equivalent</th>\n",
       "      <th>bet_ratio</th>\n",
       "      <th>home_crowd</th>\n",
       "      <th>opp_crowd</th>\n",
       "    </tr>\n",
       "  </thead>\n",
       "  <tbody>\n",
       "    <tr>\n",
       "      <td>0</td>\n",
       "      <td>1997</td>\n",
       "      <td>11/2/1996</td>\n",
       "      <td>2</td>\n",
       "      <td>0.0</td>\n",
       "      <td>1511.6364</td>\n",
       "      <td>NaN</td>\n",
       "      <td>NaN</td>\n",
       "      <td>0.616437</td>\n",
       "      <td>6600</td>\n",
       "      <td>4800</td>\n",
       "    </tr>\n",
       "    <tr>\n",
       "      <td>1</td>\n",
       "      <td>2012</td>\n",
       "      <td>6/17/2012</td>\n",
       "      <td>87</td>\n",
       "      <td>1.0</td>\n",
       "      <td>1690.4612</td>\n",
       "      <td>1732.2164</td>\n",
       "      <td>59.721931</td>\n",
       "      <td>0.583044</td>\n",
       "      <td>5600</td>\n",
       "      <td>4300</td>\n",
       "    </tr>\n",
       "    <tr>\n",
       "      <td>2</td>\n",
       "      <td>2014</td>\n",
       "      <td>11/20/2013</td>\n",
       "      <td>12</td>\n",
       "      <td>0.0</td>\n",
       "      <td>1550.2258</td>\n",
       "      <td>NaN</td>\n",
       "      <td>NaN</td>\n",
       "      <td>0.606468</td>\n",
       "      <td>8600</td>\n",
       "      <td>3800</td>\n",
       "    </tr>\n",
       "    <tr>\n",
       "      <td>3</td>\n",
       "      <td>1990</td>\n",
       "      <td>3/29/1990</td>\n",
       "      <td>69</td>\n",
       "      <td>0.0</td>\n",
       "      <td>NaN</td>\n",
       "      <td>1629.6985</td>\n",
       "      <td>39.305004</td>\n",
       "      <td>0.390694</td>\n",
       "      <td>7200</td>\n",
       "      <td>4000</td>\n",
       "    </tr>\n",
       "    <tr>\n",
       "      <td>4</td>\n",
       "      <td>2004</td>\n",
       "      <td>1/2/2004</td>\n",
       "      <td>30</td>\n",
       "      <td>0.0</td>\n",
       "      <td>NaN</td>\n",
       "      <td>NaN</td>\n",
       "      <td>28.311192</td>\n",
       "      <td>0.492179</td>\n",
       "      <td>8600</td>\n",
       "      <td>4900</td>\n",
       "    </tr>\n",
       "  </tbody>\n",
       "</table>\n",
       "</div>"
      ],
      "text/plain": [
       "   season_end        date  season_game_seq  playoff        Elo    opp_Elo  \\\n",
       "0        1997   11/2/1996                2      0.0  1511.6364        NaN   \n",
       "1        2012   6/17/2012               87      1.0  1690.4612  1732.2164   \n",
       "2        2014  11/20/2013               12      0.0  1550.2258        NaN   \n",
       "3        1990   3/29/1990               69      0.0        NaN  1629.6985   \n",
       "4        2004    1/2/2004               30      0.0        NaN        NaN   \n",
       "\n",
       "   win_equivalent  bet_ratio  home_crowd  opp_crowd  \n",
       "0             NaN   0.616437        6600       4800  \n",
       "1       59.721931   0.583044        5600       4300  \n",
       "2             NaN   0.606468        8600       3800  \n",
       "3       39.305004   0.390694        7200       4000  \n",
       "4       28.311192   0.492179        8600       4900  "
      ]
     },
     "execution_count": 11,
     "metadata": {},
     "output_type": "execute_result"
    }
   ],
   "source": [
    "train_data.head()"
   ]
  },
  {
   "cell_type": "code",
   "execution_count": 12,
   "metadata": {},
   "outputs": [
    {
     "name": "stdout",
     "output_type": "stream",
     "text": [
      "Wins:  28017\n",
      "Losses 16983\n"
     ]
    },
    {
     "data": {
      "image/png": "[encoded data removed]",
      "text/plain": [
       "<Figure size 432x288 with 1 Axes>"
      ]
     },
     "metadata": {
      "needs_background": "light"
     },
     "output_type": "display_data"
    }
   ],
   "source": [
    "ax = sns.countplot(y_train,label='Count')\n",
    "win, loss = y_train.value_counts()\n",
    "print('Wins: ',win)\n",
    "print('Losses', loss)"
   ]
  },
  {
   "cell_type": "code",
   "execution_count": 13,
   "metadata": {},
   "outputs": [
    {
     "data": {
      "text/plain": [
       "0        1\n",
       "1        0\n",
       "2        0\n",
       "3        0\n",
       "4        0\n",
       "        ..\n",
       "44995    0\n",
       "44996    0\n",
       "44997    0\n",
       "44998    0\n",
       "44999    1\n",
       "Name: game_result, Length: 45000, dtype: int64"
      ]
     },
     "execution_count": 13,
     "metadata": {},
     "output_type": "execute_result"
    }
   ],
   "source": [
    "y_train"
   ]
  },
  {
   "cell_type": "code",
   "execution_count": 14,
   "metadata": {},
   "outputs": [
    {
     "data": {
      "text/plain": [
       "(array([0, 1, 2, 3, 4, 5, 6, 7, 8]), <a list of 9 Text xticklabel objects>)"
      ]
     },
     "execution_count": 14,
     "metadata": {},
     "output_type": "execute_result"
    },
    {
     "data": {
      "image/png": "[encoded data removed]",
      "text/plain": [
       "<Figure size 720x720 with 1 Axes>"
      ]
     },
     "metadata": {
      "needs_background": "light"
     },
     "output_type": "display_data"
    }
   ],
   "source": [
    "data_dia = y_train\n",
    "data = train_data.drop(labels=['date'],axis=1)\n",
    "data_n_2 = (data - data.mean()) / (data.std())\n",
    "data = pd.concat([y_train,data_n_2],axis=1)\n",
    "data = pd.melt(data,id_vars = 'game_result',var_name=\"features\",value_name='value')\n",
    "plt.figure(figsize=(10,10))\n",
    "sns.boxplot(x='features', y = 'value',hue='game_result',data = data)\n",
    "plt.xticks(rotation=90)"
   ]
  },
  {
   "cell_type": "code",
   "execution_count": 15,
   "metadata": {},
   "outputs": [
    {
     "data": {
      "text/plain": [
       "(array([0, 1, 2, 3, 4, 5, 6, 7, 8]), <a list of 9 Text xticklabel objects>)"
      ]
     },
     "execution_count": 15,
     "metadata": {},
     "output_type": "execute_result"
    },
    {
     "data": {
      "image/png": "[encoded data removed]",
      "text/plain": [
       "<Figure size 720x720 with 1 Axes>"
      ]
     },
     "metadata": {
      "needs_background": "light"
     },
     "output_type": "display_data"
    }
   ],
   "source": [
    "plt.figure(figsize=(10,10))\n",
    "sns.violinplot(x=\"features\", y=\"value\", hue=\"game_result\", data=data,split=True, inner=\"quart\")\n",
    "plt.xticks(rotation=90)"
   ]
  },
  {
   "cell_type": "code",
   "execution_count": 16,
   "metadata": {},
   "outputs": [
    {
     "data": {
      "text/plain": [
       "<matplotlib.axes._subplots.AxesSubplot at 0x7f2b9ce2d790>"
      ]
     },
     "execution_count": 16,
     "metadata": {},
     "output_type": "execute_result"
    },
    {
     "data": {
      "image/png": "[encoded data removed]",
      "text/plain": [
       "<Figure size 720x720 with 2 Axes>"
      ]
     },
     "metadata": {
      "needs_background": "light"
     },
     "output_type": "display_data"
    }
   ],
   "source": [
    "f,ax = plt.subplots(figsize=(10, 10))\n",
    "data = train_data.drop(labels=['date'],axis=1)\n",
    "\n",
    "sns.heatmap(data.corr(), annot=True, linewidths=.5, fmt= '.1f',ax=ax)"
   ]
  },
  {
   "cell_type": "code",
   "execution_count": 17,
   "metadata": {},
   "outputs": [],
   "source": [
    "train_data = train_data.drop(labels=['date'],axis=1)"
   ]
  },
  {
   "cell_type": "code",
   "execution_count": 23,
   "metadata": {},
   "outputs": [],
   "source": [
    "drop_list = ['win_equivalent','bet_ratio']\n",
    "X_train = train_data.drop(labels=drop_list,axis=1)\n",
    "X_test = test_data.drop(labels = drop_list,axis=1)\n"
   ]
  },
  {
   "cell_type": "code",
   "execution_count": 24,
   "metadata": {},
   "outputs": [
    {
     "data": {
      "text/html": [
       "<div>\n",
       "<style scoped>\n",
       "    .dataframe tbody tr th:only-of-type {\n",
       "        vertical-align: middle;\n",
       "    }\n",
       "\n",
       "    .dataframe tbody tr th {\n",
       "        vertical-align: top;\n",
       "    }\n",
       "\n",
       "    .dataframe thead th {\n",
       "        text-align: right;\n",
       "    }\n",
       "</style>\n",
       "<table border=\"1\" class=\"dataframe\">\n",
       "  <thead>\n",
       "    <tr style=\"text-align: right;\">\n",
       "      <th></th>\n",
       "      <th>season_end</th>\n",
       "      <th>season_game_seq</th>\n",
       "      <th>playoff</th>\n",
       "      <th>Elo</th>\n",
       "      <th>opp_Elo</th>\n",
       "      <th>home_crowd</th>\n",
       "      <th>opp_crowd</th>\n",
       "    </tr>\n",
       "  </thead>\n",
       "  <tbody>\n",
       "    <tr>\n",
       "      <td>0</td>\n",
       "      <td>1997</td>\n",
       "      <td>2</td>\n",
       "      <td>0.0</td>\n",
       "      <td>1511.6364</td>\n",
       "      <td>NaN</td>\n",
       "      <td>6600</td>\n",
       "      <td>4800</td>\n",
       "    </tr>\n",
       "    <tr>\n",
       "      <td>1</td>\n",
       "      <td>2012</td>\n",
       "      <td>87</td>\n",
       "      <td>1.0</td>\n",
       "      <td>1690.4612</td>\n",
       "      <td>1732.2164</td>\n",
       "      <td>5600</td>\n",
       "      <td>4300</td>\n",
       "    </tr>\n",
       "    <tr>\n",
       "      <td>2</td>\n",
       "      <td>2014</td>\n",
       "      <td>12</td>\n",
       "      <td>0.0</td>\n",
       "      <td>1550.2258</td>\n",
       "      <td>NaN</td>\n",
       "      <td>8600</td>\n",
       "      <td>3800</td>\n",
       "    </tr>\n",
       "    <tr>\n",
       "      <td>3</td>\n",
       "      <td>1990</td>\n",
       "      <td>69</td>\n",
       "      <td>0.0</td>\n",
       "      <td>NaN</td>\n",
       "      <td>1629.6985</td>\n",
       "      <td>7200</td>\n",
       "      <td>4000</td>\n",
       "    </tr>\n",
       "    <tr>\n",
       "      <td>4</td>\n",
       "      <td>2004</td>\n",
       "      <td>30</td>\n",
       "      <td>0.0</td>\n",
       "      <td>NaN</td>\n",
       "      <td>NaN</td>\n",
       "      <td>8600</td>\n",
       "      <td>4900</td>\n",
       "    </tr>\n",
       "  </tbody>\n",
       "</table>\n",
       "</div>"
      ],
      "text/plain": [
       "   season_end  season_game_seq  playoff        Elo    opp_Elo  home_crowd  \\\n",
       "0        1997                2      0.0  1511.6364        NaN        6600   \n",
       "1        2012               87      1.0  1690.4612  1732.2164        5600   \n",
       "2        2014               12      0.0  1550.2258        NaN        8600   \n",
       "3        1990               69      0.0        NaN  1629.6985        7200   \n",
       "4        2004               30      0.0        NaN        NaN        8600   \n",
       "\n",
       "   opp_crowd  \n",
       "0       4800  \n",
       "1       4300  \n",
       "2       3800  \n",
       "3       4000  \n",
       "4       4900  "
      ]
     },
     "execution_count": 24,
     "metadata": {},
     "output_type": "execute_result"
    }
   ],
   "source": [
    "X_train.head()"
   ]
  },
  {
   "cell_type": "code",
   "execution_count": 25,
   "metadata": {},
   "outputs": [
    {
     "data": {
      "text/plain": [
       "<matplotlib.axes._subplots.AxesSubplot at 0x7f2ba0c4cb50>"
      ]
     },
     "execution_count": 25,
     "metadata": {},
     "output_type": "execute_result"
    },
    {
     "data": {
      "image/png": "[encoded data removed]",
      "text/plain": [
       "<Figure size 720x720 with 2 Axes>"
      ]
     },
     "metadata": {
      "needs_background": "light"
     },
     "output_type": "display_data"
    }
   ],
   "source": [
    "\n",
    "f,ax = plt.subplots(figsize=(10, 10))\n",
    "sns.heatmap(X_train.corr(), annot=True, linewidths=.5, fmt= '.1f',ax=ax)"
   ]
  },
  {
   "cell_type": "code",
   "execution_count": 26,
   "metadata": {},
   "outputs": [],
   "source": [
    "from sklearn.model_selection import train_test_split\n",
    "from sklearn.ensemble import RandomForestClassifier\n",
    "from sklearn.metrics import f1_score,confusion_matrix\n",
    "from sklearn.metrics import accuracy_score"
   ]
  },
  {
   "cell_type": "code",
   "execution_count": 29,
   "metadata": {},
   "outputs": [],
   "source": [
    "X_test.head()\n",
    "X_train.drop(labels=['season_end'],inplace=True,axis = 1)\n",
    "X_test.drop(labels=['season_end'],inplace=True,axis = 1)"
   ]
  },
  {
   "cell_type": "code",
   "execution_count": 38,
   "metadata": {},
   "outputs": [],
   "source": [
    "#X_train = X_train.drop(labels=['date'],axis = 1)\n",
    "X_test.drop(labels=['date'],inplace=True,axis = 1)"
   ]
  },
  {
   "cell_type": "code",
   "execution_count": 39,
   "metadata": {},
   "outputs": [],
   "source": [
    "X_train = X_train.fillna(X_train.mean())\n",
    "X_test = X_test.fillna(X_test.mean())"
   ]
  },
  {
   "cell_type": "code",
   "execution_count": 42,
   "metadata": {},
   "outputs": [
    {
     "data": {
      "text/plain": [
       "45000"
      ]
     },
     "execution_count": 42,
     "metadata": {},
     "output_type": "execute_result"
    }
   ],
   "source": [
    "y_train.count()"
   ]
  },
  {
   "cell_type": "code",
   "execution_count": 44,
   "metadata": {},
   "outputs": [],
   "source": [
    "X_train['Elo_diff'] = X_train['Elo'] - X_train['opp_Elo']"
   ]
  },
  {
   "cell_type": "code",
   "execution_count": 43,
   "metadata": {},
   "outputs": [],
   "source": [
    "X_train['player_diff'] = X_train['home_crowd'] - X_train['opp_crowd']\n",
    "X_test['Elo_diff'] = X_test['Elo'] - X_test['opp_Elo']\n",
    "X_test['player_diff'] = X_test['home_crowd'] - X_test['opp_crowd']"
   ]
  },
  {
   "cell_type": "code",
   "execution_count": 45,
   "metadata": {},
   "outputs": [
    {
     "data": {
      "text/html": [
       "<div>\n",
       "<style scoped>\n",
       "    .dataframe tbody tr th:only-of-type {\n",
       "        vertical-align: middle;\n",
       "    }\n",
       "\n",
       "    .dataframe tbody tr th {\n",
       "        vertical-align: top;\n",
       "    }\n",
       "\n",
       "    .dataframe thead th {\n",
       "        text-align: right;\n",
       "    }\n",
       "</style>\n",
       "<table border=\"1\" class=\"dataframe\">\n",
       "  <thead>\n",
       "    <tr style=\"text-align: right;\">\n",
       "      <th></th>\n",
       "      <th>season_game_seq</th>\n",
       "      <th>playoff</th>\n",
       "      <th>Elo</th>\n",
       "      <th>opp_Elo</th>\n",
       "      <th>home_crowd</th>\n",
       "      <th>opp_crowd</th>\n",
       "      <th>player_diff</th>\n",
       "      <th>Elo_diff</th>\n",
       "    </tr>\n",
       "  </thead>\n",
       "  <tbody>\n",
       "    <tr>\n",
       "      <td>0</td>\n",
       "      <td>2</td>\n",
       "      <td>0.0</td>\n",
       "      <td>1511.636400</td>\n",
       "      <td>1501.837726</td>\n",
       "      <td>6600</td>\n",
       "      <td>4800</td>\n",
       "      <td>1800</td>\n",
       "      <td>9.798674</td>\n",
       "    </tr>\n",
       "    <tr>\n",
       "      <td>1</td>\n",
       "      <td>87</td>\n",
       "      <td>1.0</td>\n",
       "      <td>1690.461200</td>\n",
       "      <td>1732.216400</td>\n",
       "      <td>5600</td>\n",
       "      <td>4300</td>\n",
       "      <td>1300</td>\n",
       "      <td>-41.755200</td>\n",
       "    </tr>\n",
       "    <tr>\n",
       "      <td>2</td>\n",
       "      <td>12</td>\n",
       "      <td>0.0</td>\n",
       "      <td>1550.225800</td>\n",
       "      <td>1501.837726</td>\n",
       "      <td>8600</td>\n",
       "      <td>3800</td>\n",
       "      <td>4800</td>\n",
       "      <td>48.388074</td>\n",
       "    </tr>\n",
       "    <tr>\n",
       "      <td>3</td>\n",
       "      <td>69</td>\n",
       "      <td>0.0</td>\n",
       "      <td>1501.184626</td>\n",
       "      <td>1629.698500</td>\n",
       "      <td>7200</td>\n",
       "      <td>4000</td>\n",
       "      <td>3200</td>\n",
       "      <td>-128.513874</td>\n",
       "    </tr>\n",
       "    <tr>\n",
       "      <td>4</td>\n",
       "      <td>30</td>\n",
       "      <td>0.0</td>\n",
       "      <td>1501.184626</td>\n",
       "      <td>1501.837726</td>\n",
       "      <td>8600</td>\n",
       "      <td>4900</td>\n",
       "      <td>3700</td>\n",
       "      <td>-0.653100</td>\n",
       "    </tr>\n",
       "  </tbody>\n",
       "</table>\n",
       "</div>"
      ],
      "text/plain": [
       "   season_game_seq  playoff          Elo      opp_Elo  home_crowd  opp_crowd  \\\n",
       "0                2      0.0  1511.636400  1501.837726        6600       4800   \n",
       "1               87      1.0  1690.461200  1732.216400        5600       4300   \n",
       "2               12      0.0  1550.225800  1501.837726        8600       3800   \n",
       "3               69      0.0  1501.184626  1629.698500        7200       4000   \n",
       "4               30      0.0  1501.184626  1501.837726        8600       4900   \n",
       "\n",
       "   player_diff    Elo_diff  \n",
       "0         1800    9.798674  \n",
       "1         1300  -41.755200  \n",
       "2         4800   48.388074  \n",
       "3         3200 -128.513874  \n",
       "4         3700   -0.653100  "
      ]
     },
     "execution_count": 45,
     "metadata": {},
     "output_type": "execute_result"
    }
   ],
   "source": [
    "X_train.drop(labels=['Elo','opp_Elo','home_crowd','opp_crowd'],axis=1,inplace=True)\n",
    "X_trai.drop(labels=['Elo','opp_Elo','home_crowd','opp_crowd'],axis=1,inplace=True)"
   ]
  },
  {
   "cell_type": "code",
   "execution_count": null,
   "metadata": {},
   "outputs": [],
   "source": []
  }
 ],
 "metadata": {
  "kernelspec": {
   "display_name": "Python 3",
   "language": "python",
   "name": "python3"
  },
  "language_info": {
   "codemirror_mode": {
    "name": "ipython",
    "version": 3
   },
   "file_extension": ".py",
   "mimetype": "text/x-python",
   "name": "python",
   "nbconvert_exporter": "python",
   "pygments_lexer": "ipython3",
   "version": "3.7.4"
  }
 },
 "nbformat": 4,
 "nbformat_minor": 2
}
