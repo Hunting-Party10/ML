{
 "cells": [
  {
   "cell_type": "code",
   "execution_count": 1,
   "metadata": {},
   "outputs": [],
   "source": [
    "import numpy as np\n",
    "import pandas as pd\n",
    "import seaborn as sns\n",
    "import matplotlib.pyplot as plt\n",
    "\n",
    "%matplotlib inline\n"
   ]
  },
  {
   "cell_type": "code",
   "execution_count": 6,
   "metadata": {},
   "outputs": [],
   "source": [
    "df1 = pd.read_csv('train.csv')\n",
    "df2 = pd.read_csv('test.csv')"
   ]
  },
  {
   "cell_type": "code",
   "execution_count": 7,
   "metadata": {},
   "outputs": [
    {
     "data": {
      "text/plain": [
       "Index(['Id', 'game_seq', 'season_end', 'date', 'season_game_seq', 'playoff',\n",
       "       'team_id', 'Elo', 'opp_team_id', 'opp_Elo', 'win_equivalent',\n",
       "       'bet_ratio', 'home_crowd', 'opp_crowd', 'total_crowd', 'game_result'],\n",
       "      dtype='object')"
      ]
     },
     "execution_count": 7,
     "metadata": {},
     "output_type": "execute_result"
    }
   ],
   "source": [
    "df1.columns"
   ]
  },
  {
   "cell_type": "code",
   "execution_count": 8,
   "metadata": {},
   "outputs": [
    {
     "data": {
      "text/html": [
       "<div>\n",
       "<style scoped>\n",
       "    .dataframe tbody tr th:only-of-type {\n",
       "        vertical-align: middle;\n",
       "    }\n",
       "\n",
       "    .dataframe tbody tr th {\n",
       "        vertical-align: top;\n",
       "    }\n",
       "\n",
       "    .dataframe thead th {\n",
       "        text-align: right;\n",
       "    }\n",
       "</style>\n",
       "<table border=\"1\" class=\"dataframe\">\n",
       "  <thead>\n",
       "    <tr style=\"text-align: right;\">\n",
       "      <th></th>\n",
       "      <th>Id</th>\n",
       "      <th>game_seq</th>\n",
       "      <th>season_end</th>\n",
       "      <th>date</th>\n",
       "      <th>season_game_seq</th>\n",
       "      <th>playoff</th>\n",
       "      <th>team_id</th>\n",
       "      <th>Elo</th>\n",
       "      <th>opp_team_id</th>\n",
       "      <th>opp_Elo</th>\n",
       "      <th>win_equivalent</th>\n",
       "      <th>bet_ratio</th>\n",
       "      <th>home_crowd</th>\n",
       "      <th>opp_crowd</th>\n",
       "      <th>total_crowd</th>\n",
       "      <th>game_result</th>\n",
       "    </tr>\n",
       "  </thead>\n",
       "  <tbody>\n",
       "    <tr>\n",
       "      <td>0</td>\n",
       "      <td>1</td>\n",
       "      <td>39323</td>\n",
       "      <td>1997</td>\n",
       "      <td>11/2/1996</td>\n",
       "      <td>2</td>\n",
       "      <td>False</td>\n",
       "      <td>team25</td>\n",
       "      <td>1511.6364</td>\n",
       "      <td>opp_team10</td>\n",
       "      <td>NaN</td>\n",
       "      <td>NaN</td>\n",
       "      <td>0.616437</td>\n",
       "      <td>6600</td>\n",
       "      <td>4800</td>\n",
       "      <td>11400</td>\n",
       "      <td>1</td>\n",
       "    </tr>\n",
       "    <tr>\n",
       "      <td>1</td>\n",
       "      <td>2</td>\n",
       "      <td>59211</td>\n",
       "      <td>2012</td>\n",
       "      <td>6/17/2012</td>\n",
       "      <td>87</td>\n",
       "      <td>True</td>\n",
       "      <td>team22</td>\n",
       "      <td>1690.4612</td>\n",
       "      <td>opp_team42</td>\n",
       "      <td>1732.2164</td>\n",
       "      <td>59.721931</td>\n",
       "      <td>0.583044</td>\n",
       "      <td>5600</td>\n",
       "      <td>4300</td>\n",
       "      <td>9900</td>\n",
       "      <td>0</td>\n",
       "    </tr>\n",
       "    <tr>\n",
       "      <td>2</td>\n",
       "      <td>3</td>\n",
       "      <td>60691</td>\n",
       "      <td>2014</td>\n",
       "      <td>11/20/2013</td>\n",
       "      <td>12</td>\n",
       "      <td>False</td>\n",
       "      <td>team18</td>\n",
       "      <td>1550.2258</td>\n",
       "      <td>opp_team11</td>\n",
       "      <td>NaN</td>\n",
       "      <td>NaN</td>\n",
       "      <td>0.606468</td>\n",
       "      <td>8600</td>\n",
       "      <td>3800</td>\n",
       "      <td>12400</td>\n",
       "      <td>0</td>\n",
       "    </tr>\n",
       "    <tr>\n",
       "      <td>3</td>\n",
       "      <td>4</td>\n",
       "      <td>31900</td>\n",
       "      <td>1990</td>\n",
       "      <td>3/29/1990</td>\n",
       "      <td>69</td>\n",
       "      <td>False</td>\n",
       "      <td>team12</td>\n",
       "      <td>NaN</td>\n",
       "      <td>opp_team17</td>\n",
       "      <td>1629.6985</td>\n",
       "      <td>39.305004</td>\n",
       "      <td>0.390694</td>\n",
       "      <td>7200</td>\n",
       "      <td>4000</td>\n",
       "      <td>11200</td>\n",
       "      <td>0</td>\n",
       "    </tr>\n",
       "    <tr>\n",
       "      <td>4</td>\n",
       "      <td>5</td>\n",
       "      <td>48134</td>\n",
       "      <td>2004</td>\n",
       "      <td>1/2/2004</td>\n",
       "      <td>30</td>\n",
       "      <td>False</td>\n",
       "      <td>team27</td>\n",
       "      <td>NaN</td>\n",
       "      <td>opp_team12</td>\n",
       "      <td>NaN</td>\n",
       "      <td>28.311192</td>\n",
       "      <td>0.492179</td>\n",
       "      <td>8600</td>\n",
       "      <td>4900</td>\n",
       "      <td>13500</td>\n",
       "      <td>0</td>\n",
       "    </tr>\n",
       "  </tbody>\n",
       "</table>\n",
       "</div>"
      ],
      "text/plain": [
       "   Id  game_seq  season_end        date  season_game_seq  playoff team_id  \\\n",
       "0   1     39323        1997   11/2/1996                2    False  team25   \n",
       "1   2     59211        2012   6/17/2012               87     True  team22   \n",
       "2   3     60691        2014  11/20/2013               12    False  team18   \n",
       "3   4     31900        1990   3/29/1990               69    False  team12   \n",
       "4   5     48134        2004    1/2/2004               30    False  team27   \n",
       "\n",
       "         Elo opp_team_id    opp_Elo  win_equivalent  bet_ratio  home_crowd  \\\n",
       "0  1511.6364  opp_team10        NaN             NaN   0.616437        6600   \n",
       "1  1690.4612  opp_team42  1732.2164       59.721931   0.583044        5600   \n",
       "2  1550.2258  opp_team11        NaN             NaN   0.606468        8600   \n",
       "3        NaN  opp_team17  1629.6985       39.305004   0.390694        7200   \n",
       "4        NaN  opp_team12        NaN       28.311192   0.492179        8600   \n",
       "\n",
       "   opp_crowd  total_crowd  game_result  \n",
       "0       4800        11400            1  \n",
       "1       4300         9900            0  \n",
       "2       3800        12400            0  \n",
       "3       4000        11200            0  \n",
       "4       4900        13500            0  "
      ]
     },
     "execution_count": 8,
     "metadata": {},
     "output_type": "execute_result"
    }
   ],
   "source": [
    "df1.head()"
   ]
  },
  {
   "cell_type": "code",
   "execution_count": 9,
   "metadata": {},
   "outputs": [],
   "source": [
    "df1['team_id'] = df1['team_id'].str.extract('(\\d+)').astype(int)\n",
    "df1['opp_team_id'] = df1['opp_team_id'].str.extract('(\\d+)').astype(int)\n",
    "df1['playoff'] = df1['playoff'].replace(False,0)\n",
    "\n",
    "df2['team_id'] = df2['team_id'].str.extract('(\\d+)').astype(int)\n",
    "df2['opp_team_id'] = df2['opp_team_id'].str.extract('(\\d+)').astype(int)\n",
    "df2['playoff'] = df2['playoff'].replace(False,0)"
   ]
  },
  {
   "cell_type": "code",
   "execution_count": 10,
   "metadata": {
    "collapsed": true
   },
   "outputs": [
    {
     "data": {
      "text/html": [
       "<div>\n",
       "<style scoped>\n",
       "    .dataframe tbody tr th:only-of-type {\n",
       "        vertical-align: middle;\n",
       "    }\n",
       "\n",
       "    .dataframe tbody tr th {\n",
       "        vertical-align: top;\n",
       "    }\n",
       "\n",
       "    .dataframe thead th {\n",
       "        text-align: right;\n",
       "    }\n",
       "</style>\n",
       "<table border=\"1\" class=\"dataframe\">\n",
       "  <thead>\n",
       "    <tr style=\"text-align: right;\">\n",
       "      <th></th>\n",
       "      <th>Id</th>\n",
       "      <th>game_seq</th>\n",
       "      <th>season_end</th>\n",
       "      <th>date</th>\n",
       "      <th>season_game_seq</th>\n",
       "      <th>playoff</th>\n",
       "      <th>team_id</th>\n",
       "      <th>Elo</th>\n",
       "      <th>opp_team_id</th>\n",
       "      <th>opp_Elo</th>\n",
       "      <th>win_equivalent</th>\n",
       "      <th>bet_ratio</th>\n",
       "      <th>home_crowd</th>\n",
       "      <th>opp_crowd</th>\n",
       "      <th>total_crowd</th>\n",
       "      <th>game_result</th>\n",
       "    </tr>\n",
       "  </thead>\n",
       "  <tbody>\n",
       "    <tr>\n",
       "      <td>0</td>\n",
       "      <td>1</td>\n",
       "      <td>39323</td>\n",
       "      <td>1997</td>\n",
       "      <td>11/2/1996</td>\n",
       "      <td>2</td>\n",
       "      <td>0.0</td>\n",
       "      <td>25</td>\n",
       "      <td>1511.6364</td>\n",
       "      <td>10</td>\n",
       "      <td>NaN</td>\n",
       "      <td>NaN</td>\n",
       "      <td>0.616437</td>\n",
       "      <td>6600</td>\n",
       "      <td>4800</td>\n",
       "      <td>11400</td>\n",
       "      <td>1</td>\n",
       "    </tr>\n",
       "    <tr>\n",
       "      <td>1</td>\n",
       "      <td>2</td>\n",
       "      <td>59211</td>\n",
       "      <td>2012</td>\n",
       "      <td>6/17/2012</td>\n",
       "      <td>87</td>\n",
       "      <td>1.0</td>\n",
       "      <td>22</td>\n",
       "      <td>1690.4612</td>\n",
       "      <td>42</td>\n",
       "      <td>1732.2164</td>\n",
       "      <td>59.721931</td>\n",
       "      <td>0.583044</td>\n",
       "      <td>5600</td>\n",
       "      <td>4300</td>\n",
       "      <td>9900</td>\n",
       "      <td>0</td>\n",
       "    </tr>\n",
       "    <tr>\n",
       "      <td>2</td>\n",
       "      <td>3</td>\n",
       "      <td>60691</td>\n",
       "      <td>2014</td>\n",
       "      <td>11/20/2013</td>\n",
       "      <td>12</td>\n",
       "      <td>0.0</td>\n",
       "      <td>18</td>\n",
       "      <td>1550.2258</td>\n",
       "      <td>11</td>\n",
       "      <td>NaN</td>\n",
       "      <td>NaN</td>\n",
       "      <td>0.606468</td>\n",
       "      <td>8600</td>\n",
       "      <td>3800</td>\n",
       "      <td>12400</td>\n",
       "      <td>0</td>\n",
       "    </tr>\n",
       "    <tr>\n",
       "      <td>3</td>\n",
       "      <td>4</td>\n",
       "      <td>31900</td>\n",
       "      <td>1990</td>\n",
       "      <td>3/29/1990</td>\n",
       "      <td>69</td>\n",
       "      <td>0.0</td>\n",
       "      <td>12</td>\n",
       "      <td>NaN</td>\n",
       "      <td>17</td>\n",
       "      <td>1629.6985</td>\n",
       "      <td>39.305004</td>\n",
       "      <td>0.390694</td>\n",
       "      <td>7200</td>\n",
       "      <td>4000</td>\n",
       "      <td>11200</td>\n",
       "      <td>0</td>\n",
       "    </tr>\n",
       "    <tr>\n",
       "      <td>4</td>\n",
       "      <td>5</td>\n",
       "      <td>48134</td>\n",
       "      <td>2004</td>\n",
       "      <td>1/2/2004</td>\n",
       "      <td>30</td>\n",
       "      <td>0.0</td>\n",
       "      <td>27</td>\n",
       "      <td>NaN</td>\n",
       "      <td>12</td>\n",
       "      <td>NaN</td>\n",
       "      <td>28.311192</td>\n",
       "      <td>0.492179</td>\n",
       "      <td>8600</td>\n",
       "      <td>4900</td>\n",
       "      <td>13500</td>\n",
       "      <td>0</td>\n",
       "    </tr>\n",
       "  </tbody>\n",
       "</table>\n",
       "</div>"
      ],
      "text/plain": [
       "   Id  game_seq  season_end        date  season_game_seq  playoff  team_id  \\\n",
       "0   1     39323        1997   11/2/1996                2      0.0       25   \n",
       "1   2     59211        2012   6/17/2012               87      1.0       22   \n",
       "2   3     60691        2014  11/20/2013               12      0.0       18   \n",
       "3   4     31900        1990   3/29/1990               69      0.0       12   \n",
       "4   5     48134        2004    1/2/2004               30      0.0       27   \n",
       "\n",
       "         Elo  opp_team_id    opp_Elo  win_equivalent  bet_ratio  home_crowd  \\\n",
       "0  1511.6364           10        NaN             NaN   0.616437        6600   \n",
       "1  1690.4612           42  1732.2164       59.721931   0.583044        5600   \n",
       "2  1550.2258           11        NaN             NaN   0.606468        8600   \n",
       "3        NaN           17  1629.6985       39.305004   0.390694        7200   \n",
       "4        NaN           12        NaN       28.311192   0.492179        8600   \n",
       "\n",
       "   opp_crowd  total_crowd  game_result  \n",
       "0       4800        11400            1  \n",
       "1       4300         9900            0  \n",
       "2       3800        12400            0  \n",
       "3       4000        11200            0  \n",
       "4       4900        13500            0  "
      ]
     },
     "execution_count": 10,
     "metadata": {},
     "output_type": "execute_result"
    }
   ],
   "source": [
    "df1.head()"
   ]
  },
  {
   "cell_type": "code",
   "execution_count": 15,
   "metadata": {},
   "outputs": [],
   "source": [
    "import tensorflow as tf"
   ]
  },
  {
   "cell_type": "code",
   "execution_count": 24,
   "metadata": {},
   "outputs": [],
   "source": [
    "train_data = df1.drop(labels=['Id','team_id','opp_team_id','game_seq','total_crowd'],axis = 1)\n",
    "test_data = df2.drop(labels=['Id','team_id','opp_team_id','game_seq','total_crowd'],axis = 1)"
   ]
  },
  {
   "cell_type": "code",
   "execution_count": 25,
   "metadata": {
    "collapsed": true
   },
   "outputs": [
    {
     "data": {
      "text/html": [
       "<div>\n",
       "<style scoped>\n",
       "    .dataframe tbody tr th:only-of-type {\n",
       "        vertical-align: middle;\n",
       "    }\n",
       "\n",
       "    .dataframe tbody tr th {\n",
       "        vertical-align: top;\n",
       "    }\n",
       "\n",
       "    .dataframe thead th {\n",
       "        text-align: right;\n",
       "    }\n",
       "</style>\n",
       "<table border=\"1\" class=\"dataframe\">\n",
       "  <thead>\n",
       "    <tr style=\"text-align: right;\">\n",
       "      <th></th>\n",
       "      <th>season_end</th>\n",
       "      <th>date</th>\n",
       "      <th>season_game_seq</th>\n",
       "      <th>playoff</th>\n",
       "      <th>Elo</th>\n",
       "      <th>opp_Elo</th>\n",
       "      <th>win_equivalent</th>\n",
       "      <th>bet_ratio</th>\n",
       "      <th>home_crowd</th>\n",
       "      <th>opp_crowd</th>\n",
       "      <th>game_result</th>\n",
       "    </tr>\n",
       "  </thead>\n",
       "  <tbody>\n",
       "    <tr>\n",
       "      <td>0</td>\n",
       "      <td>1997</td>\n",
       "      <td>11/2/1996</td>\n",
       "      <td>2</td>\n",
       "      <td>0.0</td>\n",
       "      <td>1511.6364</td>\n",
       "      <td>NaN</td>\n",
       "      <td>NaN</td>\n",
       "      <td>0.616437</td>\n",
       "      <td>6600</td>\n",
       "      <td>4800</td>\n",
       "      <td>1</td>\n",
       "    </tr>\n",
       "    <tr>\n",
       "      <td>1</td>\n",
       "      <td>2012</td>\n",
       "      <td>6/17/2012</td>\n",
       "      <td>87</td>\n",
       "      <td>1.0</td>\n",
       "      <td>1690.4612</td>\n",
       "      <td>1732.2164</td>\n",
       "      <td>59.721931</td>\n",
       "      <td>0.583044</td>\n",
       "      <td>5600</td>\n",
       "      <td>4300</td>\n",
       "      <td>0</td>\n",
       "    </tr>\n",
       "    <tr>\n",
       "      <td>2</td>\n",
       "      <td>2014</td>\n",
       "      <td>11/20/2013</td>\n",
       "      <td>12</td>\n",
       "      <td>0.0</td>\n",
       "      <td>1550.2258</td>\n",
       "      <td>NaN</td>\n",
       "      <td>NaN</td>\n",
       "      <td>0.606468</td>\n",
       "      <td>8600</td>\n",
       "      <td>3800</td>\n",
       "      <td>0</td>\n",
       "    </tr>\n",
       "    <tr>\n",
       "      <td>3</td>\n",
       "      <td>1990</td>\n",
       "      <td>3/29/1990</td>\n",
       "      <td>69</td>\n",
       "      <td>0.0</td>\n",
       "      <td>NaN</td>\n",
       "      <td>1629.6985</td>\n",
       "      <td>39.305004</td>\n",
       "      <td>0.390694</td>\n",
       "      <td>7200</td>\n",
       "      <td>4000</td>\n",
       "      <td>0</td>\n",
       "    </tr>\n",
       "    <tr>\n",
       "      <td>4</td>\n",
       "      <td>2004</td>\n",
       "      <td>1/2/2004</td>\n",
       "      <td>30</td>\n",
       "      <td>0.0</td>\n",
       "      <td>NaN</td>\n",
       "      <td>NaN</td>\n",
       "      <td>28.311192</td>\n",
       "      <td>0.492179</td>\n",
       "      <td>8600</td>\n",
       "      <td>4900</td>\n",
       "      <td>0</td>\n",
       "    </tr>\n",
       "  </tbody>\n",
       "</table>\n",
       "</div>"
      ],
      "text/plain": [
       "   season_end        date  season_game_seq  playoff        Elo    opp_Elo  \\\n",
       "0        1997   11/2/1996                2      0.0  1511.6364        NaN   \n",
       "1        2012   6/17/2012               87      1.0  1690.4612  1732.2164   \n",
       "2        2014  11/20/2013               12      0.0  1550.2258        NaN   \n",
       "3        1990   3/29/1990               69      0.0        NaN  1629.6985   \n",
       "4        2004    1/2/2004               30      0.0        NaN        NaN   \n",
       "\n",
       "   win_equivalent  bet_ratio  home_crowd  opp_crowd  game_result  \n",
       "0             NaN   0.616437        6600       4800            1  \n",
       "1       59.721931   0.583044        5600       4300            0  \n",
       "2             NaN   0.606468        8600       3800            0  \n",
       "3       39.305004   0.390694        7200       4000            0  \n",
       "4       28.311192   0.492179        8600       4900            0  "
      ]
     },
     "execution_count": 25,
     "metadata": {},
     "output_type": "execute_result"
    }
   ],
   "source": [
    "train_data.head()"
   ]
  },
  {
   "cell_type": "code",
   "execution_count": 28,
   "metadata": {},
   "outputs": [],
   "source": [
    "y_train = train_data['game_result']\n",
    "train_data = train_data.drop(labels=['game_result'],axis=1)"
   ]
  },
  {
   "cell_type": "code",
   "execution_count": 29,
   "metadata": {},
   "outputs": [
    {
     "data": {
      "text/html": [
       "<div>\n",
       "<style scoped>\n",
       "    .dataframe tbody tr th:only-of-type {\n",
       "        vertical-align: middle;\n",
       "    }\n",
       "\n",
       "    .dataframe tbody tr th {\n",
       "        vertical-align: top;\n",
       "    }\n",
       "\n",
       "    .dataframe thead th {\n",
       "        text-align: right;\n",
       "    }\n",
       "</style>\n",
       "<table border=\"1\" class=\"dataframe\">\n",
       "  <thead>\n",
       "    <tr style=\"text-align: right;\">\n",
       "      <th></th>\n",
       "      <th>season_end</th>\n",
       "      <th>date</th>\n",
       "      <th>season_game_seq</th>\n",
       "      <th>playoff</th>\n",
       "      <th>Elo</th>\n",
       "      <th>opp_Elo</th>\n",
       "      <th>win_equivalent</th>\n",
       "      <th>bet_ratio</th>\n",
       "      <th>home_crowd</th>\n",
       "      <th>opp_crowd</th>\n",
       "    </tr>\n",
       "  </thead>\n",
       "  <tbody>\n",
       "    <tr>\n",
       "      <td>0</td>\n",
       "      <td>1997</td>\n",
       "      <td>11/2/1996</td>\n",
       "      <td>2</td>\n",
       "      <td>0.0</td>\n",
       "      <td>1511.6364</td>\n",
       "      <td>NaN</td>\n",
       "      <td>NaN</td>\n",
       "      <td>0.616437</td>\n",
       "      <td>6600</td>\n",
       "      <td>4800</td>\n",
       "    </tr>\n",
       "    <tr>\n",
       "      <td>1</td>\n",
       "      <td>2012</td>\n",
       "      <td>6/17/2012</td>\n",
       "      <td>87</td>\n",
       "      <td>1.0</td>\n",
       "      <td>1690.4612</td>\n",
       "      <td>1732.2164</td>\n",
       "      <td>59.721931</td>\n",
       "      <td>0.583044</td>\n",
       "      <td>5600</td>\n",
       "      <td>4300</td>\n",
       "    </tr>\n",
       "    <tr>\n",
       "      <td>2</td>\n",
       "      <td>2014</td>\n",
       "      <td>11/20/2013</td>\n",
       "      <td>12</td>\n",
       "      <td>0.0</td>\n",
       "      <td>1550.2258</td>\n",
       "      <td>NaN</td>\n",
       "      <td>NaN</td>\n",
       "      <td>0.606468</td>\n",
       "      <td>8600</td>\n",
       "      <td>3800</td>\n",
       "    </tr>\n",
       "    <tr>\n",
       "      <td>3</td>\n",
       "      <td>1990</td>\n",
       "      <td>3/29/1990</td>\n",
       "      <td>69</td>\n",
       "      <td>0.0</td>\n",
       "      <td>NaN</td>\n",
       "      <td>1629.6985</td>\n",
       "      <td>39.305004</td>\n",
       "      <td>0.390694</td>\n",
       "      <td>7200</td>\n",
       "      <td>4000</td>\n",
       "    </tr>\n",
       "    <tr>\n",
       "      <td>4</td>\n",
       "      <td>2004</td>\n",
       "      <td>1/2/2004</td>\n",
       "      <td>30</td>\n",
       "      <td>0.0</td>\n",
       "      <td>NaN</td>\n",
       "      <td>NaN</td>\n",
       "      <td>28.311192</td>\n",
       "      <td>0.492179</td>\n",
       "      <td>8600</td>\n",
       "      <td>4900</td>\n",
       "    </tr>\n",
       "  </tbody>\n",
       "</table>\n",
       "</div>"
      ],
      "text/plain": [
       "   season_end        date  season_game_seq  playoff        Elo    opp_Elo  \\\n",
       "0        1997   11/2/1996                2      0.0  1511.6364        NaN   \n",
       "1        2012   6/17/2012               87      1.0  1690.4612  1732.2164   \n",
       "2        2014  11/20/2013               12      0.0  1550.2258        NaN   \n",
       "3        1990   3/29/1990               69      0.0        NaN  1629.6985   \n",
       "4        2004    1/2/2004               30      0.0        NaN        NaN   \n",
       "\n",
       "   win_equivalent  bet_ratio  home_crowd  opp_crowd  \n",
       "0             NaN   0.616437        6600       4800  \n",
       "1       59.721931   0.583044        5600       4300  \n",
       "2             NaN   0.606468        8600       3800  \n",
       "3       39.305004   0.390694        7200       4000  \n",
       "4       28.311192   0.492179        8600       4900  "
      ]
     },
     "execution_count": 29,
     "metadata": {},
     "output_type": "execute_result"
    }
   ],
   "source": [
    "train_data.head()"
   ]
  },
  {
   "cell_type": "code",
   "execution_count": 30,
   "metadata": {},
   "outputs": [
    {
     "name": "stdout",
     "output_type": "stream",
     "text": [
      "Wins:  28017\n",
      "Losses 16983\n"
     ]
    },
    {
     "data": {
      "image/png": "[encoded data removed]",
      "text/plain": [
       "<Figure size 432x288 with 1 Axes>"
      ]
     },
     "metadata": {
      "needs_background": "light"
     },
     "output_type": "display_data"
    }
   ],
   "source": [
    "ax = sns.countplot(y_train,label='Count')\n",
    "win, loss = y_train.value_counts()\n",
    "print('Wins: ',win)\n",
    "print('Losses', loss)"
   ]
  },
  {
   "cell_type": "code",
   "execution_count": 37,
   "metadata": {},
   "outputs": [
    {
     "data": {
      "text/plain": [
       "0        1\n",
       "1        0\n",
       "2        0\n",
       "3        0\n",
       "4        0\n",
       "        ..\n",
       "44995    0\n",
       "44996    0\n",
       "44997    0\n",
       "44998    0\n",
       "44999    1\n",
       "Name: game_result, Length: 45000, dtype: int64"
      ]
     },
     "execution_count": 37,
     "metadata": {},
     "output_type": "execute_result"
    }
   ],
   "source": [
    "y_train"
   ]
  },
  {
   "cell_type": "code",
   "execution_count": 38,
   "metadata": {},
   "outputs": [
    {
     "data": {
      "text/plain": [
       "(array([0, 1, 2, 3, 4, 5, 6, 7, 8]), <a list of 9 Text xticklabel objects>)"
      ]
     },
     "execution_count": 38,
     "metadata": {},
     "output_type": "execute_result"
    },
    {
     "data": {
      "image/png": "[encoded data removed]",
      "text/plain": [
       "<Figure size 720x720 with 1 Axes>"
      ]
     },
     "metadata": {
      "needs_background": "light"
     },
     "output_type": "display_data"
    }
   ],
   "source": [
    "data_dia = y_train\n",
    "data = train_data.drop(labels=['date'],axis=1)\n",
    "data_n_2 = (data - data.mean()) / (data.std())\n",
    "data = pd.concat([y_train,data_n_2],axis=1)\n",
    "data = pd.melt(data,id_vars = 'game_result',var_name=\"features\",value_name='value')\n",
    "plt.figure(figsize=(10,10))\n",
    "sns.boxplot(x='features', y = 'value',hue='game_result',data = data)\n",
    "plt.xticks(rotation=90)"
   ]
  },
  {
   "cell_type": "code",
   "execution_count": 40,
   "metadata": {},
   "outputs": [
    {
     "data": {
      "text/plain": [
       "(array([0, 1, 2, 3, 4, 5, 6, 7, 8]), <a list of 9 Text xticklabel objects>)"
      ]
     },
     "execution_count": 40,
     "metadata": {},
     "output_type": "execute_result"
    },
    {
     "data": {
      "image/png": "[encoded data removed]",
      "text/plain": [
       "<Figure size 720x720 with 1 Axes>"
      ]
     },
     "metadata": {
      "needs_background": "light"
     },
     "output_type": "display_data"
    }
   ],
   "source": [
    "plt.figure(figsize=(10,10))\n",
    "sns.violinplot(x=\"features\", y=\"value\", hue=\"game_result\", data=data,split=True, inner=\"quart\")\n",
    "plt.xticks(rotation=90)"
   ]
  },
  {
   "cell_type": "code",
   "execution_count": 46,
   "metadata": {},
   "outputs": [
    {
     "data": {
      "text/plain": [
       "<matplotlib.axes._subplots.AxesSubplot at 0x7f0ae661e150>"
      ]
     },
     "execution_count": 46,
     "metadata": {},
     "output_type": "execute_result"
    },
    {
     "data": {
      "image/png": "[encoded data removed]",
      "text/plain": [
       "<Figure size 720x720 with 2 Axes>"
      ]
     },
     "metadata": {},
     "output_type": "display_data"
    }
   ],
   "source": [
    "f,ax = plt.subplots(figsize=(10, 10))\n",
    "data = train_data.drop(labels=['date'],axis=1)\n",
    "\n",
    "sns.heatmap(data.corr(), annot=True, linewidths=.5, fmt= '.1f',ax=ax)"
   ]
  },
  {
   "cell_type": "code",
   "execution_count": 47,
   "metadata": {},
   "outputs": [],
   "source": [
    "train_data = train_data.drop(labels=['date'],axis=1)"
   ]
  },
  {
   "cell_type": "code",
   "execution_count": 54,
   "metadata": {},
   "outputs": [],
   "source": [
    "drop_list = ['win_equivalent','Elo','bet_ratio','Id','team_id','opp_team_id','game_seq','total_crowd']\n",
    "X_train = train_data.drop(labels=drop_list,axis=1)\n",
    "X_test = test_data.drop(labels = drop_list,axis=1)"
   ]
  },
  {
   "cell_type": "code",
   "execution_count": 49,
   "metadata": {},
   "outputs": [
    {
     "data": {
      "text/plain": [
       "<matplotlib.axes._subplots.AxesSubplot at 0x7f0ae6bd7b10>"
      ]
     },
     "execution_count": 49,
     "metadata": {},
     "output_type": "execute_result"
    },
    {
     "data": {
      "image/png": "[encoded data removed]",
      "text/plain": [
       "<Figure size 720x720 with 2 Axes>"
      ]
     },
     "metadata": {},
     "output_type": "display_data"
    }
   ],
   "source": [
    "f,ax = plt.subplots(figsize=(10, 10))\n",
    "sns.heatmap(X_train.corr(), annot=True, linewidths=.5, fmt= '.1f',ax=ax)"
   ]
  },
  {
   "cell_type": "code",
   "execution_count": 56,
   "metadata": {},
   "outputs": [],
   "source": [
    "from sklearn.model_selection import train_test_split\n",
    "from sklearn.ensemble import RandomForestClassifier\n",
    "from sklearn.metrics import f1_score,confusion_matrix\n",
    "from sklearn.metrics import accuracy_score"
   ]
  },
  {
   "cell_type": "code",
   "execution_count": 97,
   "metadata": {},
   "outputs": [],
   "source": [
    "drop_list = ['game_result','win_equivalent','date','bet_ratio','Id','team_id','opp_team_id','game_seq','total_crowd']\n",
    "X = df1.drop(labels=drop_list,axis = 1)\n"
   ]
  },
  {
   "cell_type": "code",
   "execution_count": 98,
   "metadata": {},
   "outputs": [
    {
     "data": {
      "text/plain": [
       "season_end         45000\n",
       "season_game_seq    45000\n",
       "playoff            45000\n",
       "Elo                45000\n",
       "opp_Elo            45000\n",
       "home_crowd         45000\n",
       "opp_crowd          45000\n",
       "dtype: int64"
      ]
     },
     "execution_count": 98,
     "metadata": {},
     "output_type": "execute_result"
    }
   ],
   "source": [
    "X=X.fillna(X.mean())\n",
    "X.count()"
   ]
  },
  {
   "cell_type": "code",
   "execution_count": 99,
   "metadata": {},
   "outputs": [],
   "source": [
    "test = df2.drop(labels=['win_equivalent','date','bet_ratio','Id','team_id','opp_team_id','game_seq','total_crowd'],axis = 1)"
   ]
  },
  {
   "cell_type": "code",
   "execution_count": 100,
   "metadata": {},
   "outputs": [],
   "source": [
    "y = df1['game_result']"
   ]
  },
  {
   "cell_type": "code",
   "execution_count": 101,
   "metadata": {},
   "outputs": [
    {
     "data": {
      "text/plain": [
       "45000"
      ]
     },
     "execution_count": 101,
     "metadata": {},
     "output_type": "execute_result"
    }
   ],
   "source": [
    "y.count()"
   ]
  },
  {
   "cell_type": "code",
   "execution_count": 103,
   "metadata": {},
   "outputs": [],
   "source": [
    "X['Elo_diff'] = X['Elo'] - X['opp_Elo']"
   ]
  },
  {
   "cell_type": "code",
   "execution_count": 105,
   "metadata": {},
   "outputs": [
    {
     "data": {
      "text/html": [
       "<div>\n",
       "<style scoped>\n",
       "    .dataframe tbody tr th:only-of-type {\n",
       "        vertical-align: middle;\n",
       "    }\n",
       "\n",
       "    .dataframe tbody tr th {\n",
       "        vertical-align: top;\n",
       "    }\n",
       "\n",
       "    .dataframe thead th {\n",
       "        text-align: right;\n",
       "    }\n",
       "</style>\n",
       "<table border=\"1\" class=\"dataframe\">\n",
       "  <thead>\n",
       "    <tr style=\"text-align: right;\">\n",
       "      <th></th>\n",
       "      <th>season_end</th>\n",
       "      <th>season_game_seq</th>\n",
       "      <th>playoff</th>\n",
       "      <th>Elo</th>\n",
       "      <th>opp_Elo</th>\n",
       "      <th>home_crowd</th>\n",
       "      <th>opp_crowd</th>\n",
       "      <th>Elo_diff</th>\n",
       "      <th>player_diff</th>\n",
       "    </tr>\n",
       "  </thead>\n",
       "  <tbody>\n",
       "    <tr>\n",
       "      <td>0</td>\n",
       "      <td>1997</td>\n",
       "      <td>2</td>\n",
       "      <td>0.0</td>\n",
       "      <td>1511.636400</td>\n",
       "      <td>1501.837726</td>\n",
       "      <td>6600</td>\n",
       "      <td>4800</td>\n",
       "      <td>9.798674</td>\n",
       "      <td>1800</td>\n",
       "    </tr>\n",
       "    <tr>\n",
       "      <td>1</td>\n",
       "      <td>2012</td>\n",
       "      <td>87</td>\n",
       "      <td>1.0</td>\n",
       "      <td>1690.461200</td>\n",
       "      <td>1732.216400</td>\n",
       "      <td>5600</td>\n",
       "      <td>4300</td>\n",
       "      <td>-41.755200</td>\n",
       "      <td>1300</td>\n",
       "    </tr>\n",
       "    <tr>\n",
       "      <td>2</td>\n",
       "      <td>2014</td>\n",
       "      <td>12</td>\n",
       "      <td>0.0</td>\n",
       "      <td>1550.225800</td>\n",
       "      <td>1501.837726</td>\n",
       "      <td>8600</td>\n",
       "      <td>3800</td>\n",
       "      <td>48.388074</td>\n",
       "      <td>4800</td>\n",
       "    </tr>\n",
       "    <tr>\n",
       "      <td>3</td>\n",
       "      <td>1990</td>\n",
       "      <td>69</td>\n",
       "      <td>0.0</td>\n",
       "      <td>1501.184626</td>\n",
       "      <td>1629.698500</td>\n",
       "      <td>7200</td>\n",
       "      <td>4000</td>\n",
       "      <td>-128.513874</td>\n",
       "      <td>3200</td>\n",
       "    </tr>\n",
       "    <tr>\n",
       "      <td>4</td>\n",
       "      <td>2004</td>\n",
       "      <td>30</td>\n",
       "      <td>0.0</td>\n",
       "      <td>1501.184626</td>\n",
       "      <td>1501.837726</td>\n",
       "      <td>8600</td>\n",
       "      <td>4900</td>\n",
       "      <td>-0.653100</td>\n",
       "      <td>3700</td>\n",
       "    </tr>\n",
       "  </tbody>\n",
       "</table>\n",
       "</div>"
      ],
      "text/plain": [
       "   season_end  season_game_seq  playoff          Elo      opp_Elo  home_crowd  \\\n",
       "0        1997                2      0.0  1511.636400  1501.837726        6600   \n",
       "1        2012               87      1.0  1690.461200  1732.216400        5600   \n",
       "2        2014               12      0.0  1550.225800  1501.837726        8600   \n",
       "3        1990               69      0.0  1501.184626  1629.698500        7200   \n",
       "4        2004               30      0.0  1501.184626  1501.837726        8600   \n",
       "\n",
       "   opp_crowd    Elo_diff  player_diff  \n",
       "0       4800    9.798674         1800  \n",
       "1       4300  -41.755200         1300  \n",
       "2       3800   48.388074         4800  \n",
       "3       4000 -128.513874         3200  \n",
       "4       4900   -0.653100         3700  "
      ]
     },
     "execution_count": 105,
     "metadata": {},
     "output_type": "execute_result"
    }
   ],
   "source": [
    "X['player_diff'] = X['home_crowd'] - X['opp_crowd']\n",
    "test['Elo_diff'] = test['Elo'] - test['opp_Elo']\n",
    "test['player_diff'] = test['home_crowd'] - test['opp_crowd']"
   ]
  },
  {
   "cell_type": "code",
   "execution_count": 110,
   "metadata": {},
   "outputs": [],
   "source": [
    "x = X.drop(labels=['home_crowd','opp_crowd','Elo','opp_Elo','season_end'],axis=1)\n",
    "x_t = test.drop(labels=['home_crowd','opp_crowd','Elo','opp_Elo','season_end'],axis=1)"
   ]
  },
  {
   "cell_type": "code",
   "execution_count": 111,
   "metadata": {},
   "outputs": [
    {
     "name": "stderr",
     "output_type": "stream",
     "text": [
      "/usr/lib/python3.7/site-packages/sklearn/ensemble/forest.py:245: FutureWarning: The default value of n_estimators will change from 10 in version 0.20 to 100 in 0.22.\n",
      "  \"10 in version 0.20 to 100 in 0.22.\", FutureWarning)\n"
     ]
    },
    {
     "name": "stdout",
     "output_type": "stream",
     "text": [
      "Accuracy is:  0.6284444444444445\n"
     ]
    },
    {
     "data": {
      "text/plain": [
       "<matplotlib.axes._subplots.AxesSubplot at 0x7f0ae2b0d990>"
      ]
     },
     "execution_count": 111,
     "metadata": {},
     "output_type": "execute_result"
    },
    {
     "data": {
      "image/png": "[encoded data removed]",
      "text/plain": [
       "<Figure size 432x288 with 2 Axes>"
      ]
     },
     "metadata": {},
     "output_type": "display_data"
    }
   ],
   "source": [
    "x_train, x_test, y_train, y_test = train_test_split(x, y, test_size=0.3, random_state=42)\n",
    "\n",
    "#random forest classifier with n_estimators=10 (default)\n",
    "clf_rf = RandomForestClassifier(random_state=43)      \n",
    "clr_rf = clf_rf.fit(x_train,y_train)\n",
    "\n",
    "ac = accuracy_score(y_test,clf_rf.predict(x_test))\n",
    "print('Accuracy is: ',ac)\n",
    "cm = confusion_matrix(y_test,clf_rf.predict(x_test))\n",
    "sns.heatmap(cm,annot=True,fmt=\"d\")"
   ]
  },
  {
   "cell_type": "code",
   "execution_count": 112,
   "metadata": {},
   "outputs": [
    {
     "data": {
      "text/html": [
       "<div>\n",
       "<style scoped>\n",
       "    .dataframe tbody tr th:only-of-type {\n",
       "        vertical-align: middle;\n",
       "    }\n",
       "\n",
       "    .dataframe tbody tr th {\n",
       "        vertical-align: top;\n",
       "    }\n",
       "\n",
       "    .dataframe thead th {\n",
       "        text-align: right;\n",
       "    }\n",
       "</style>\n",
       "<table border=\"1\" class=\"dataframe\">\n",
       "  <thead>\n",
       "    <tr style=\"text-align: right;\">\n",
       "      <th></th>\n",
       "      <th>season_game_seq</th>\n",
       "      <th>playoff</th>\n",
       "      <th>Elo_diff</th>\n",
       "      <th>player_diff</th>\n",
       "    </tr>\n",
       "  </thead>\n",
       "  <tbody>\n",
       "    <tr>\n",
       "      <td>0</td>\n",
       "      <td>2</td>\n",
       "      <td>0.0</td>\n",
       "      <td>9.798674</td>\n",
       "      <td>1800</td>\n",
       "    </tr>\n",
       "    <tr>\n",
       "      <td>1</td>\n",
       "      <td>87</td>\n",
       "      <td>1.0</td>\n",
       "      <td>-41.755200</td>\n",
       "      <td>1300</td>\n",
       "    </tr>\n",
       "    <tr>\n",
       "      <td>2</td>\n",
       "      <td>12</td>\n",
       "      <td>0.0</td>\n",
       "      <td>48.388074</td>\n",
       "      <td>4800</td>\n",
       "    </tr>\n",
       "    <tr>\n",
       "      <td>3</td>\n",
       "      <td>69</td>\n",
       "      <td>0.0</td>\n",
       "      <td>-128.513874</td>\n",
       "      <td>3200</td>\n",
       "    </tr>\n",
       "    <tr>\n",
       "      <td>4</td>\n",
       "      <td>30</td>\n",
       "      <td>0.0</td>\n",
       "      <td>-0.653100</td>\n",
       "      <td>3700</td>\n",
       "    </tr>\n",
       "  </tbody>\n",
       "</table>\n",
       "</div>"
      ],
      "text/plain": [
       "   season_game_seq  playoff    Elo_diff  player_diff\n",
       "0                2      0.0    9.798674         1800\n",
       "1               87      1.0  -41.755200         1300\n",
       "2               12      0.0   48.388074         4800\n",
       "3               69      0.0 -128.513874         3200\n",
       "4               30      0.0   -0.653100         3700"
      ]
     },
     "execution_count": 112,
     "metadata": {},
     "output_type": "execute_result"
    }
   ],
   "source": [
    "x.head()"
   ]
  },
  {
   "cell_type": "code",
   "execution_count": 113,
   "metadata": {},
   "outputs": [
    {
     "data": {
      "text/html": [
       "<div>\n",
       "<style scoped>\n",
       "    .dataframe tbody tr th:only-of-type {\n",
       "        vertical-align: middle;\n",
       "    }\n",
       "\n",
       "    .dataframe tbody tr th {\n",
       "        vertical-align: top;\n",
       "    }\n",
       "\n",
       "    .dataframe thead th {\n",
       "        text-align: right;\n",
       "    }\n",
       "</style>\n",
       "<table border=\"1\" class=\"dataframe\">\n",
       "  <thead>\n",
       "    <tr style=\"text-align: right;\">\n",
       "      <th></th>\n",
       "      <th>season_game_seq</th>\n",
       "      <th>playoff</th>\n",
       "      <th>Elo_diff</th>\n",
       "      <th>player_diff</th>\n",
       "    </tr>\n",
       "  </thead>\n",
       "  <tbody>\n",
       "    <tr>\n",
       "      <td>0</td>\n",
       "      <td>45</td>\n",
       "      <td>0.0</td>\n",
       "      <td>-15.3684</td>\n",
       "      <td>5400</td>\n",
       "    </tr>\n",
       "    <tr>\n",
       "      <td>1</td>\n",
       "      <td>60</td>\n",
       "      <td>0.0</td>\n",
       "      <td>214.3494</td>\n",
       "      <td>4400</td>\n",
       "    </tr>\n",
       "    <tr>\n",
       "      <td>2</td>\n",
       "      <td>28</td>\n",
       "      <td>0.0</td>\n",
       "      <td>103.0277</td>\n",
       "      <td>2300</td>\n",
       "    </tr>\n",
       "    <tr>\n",
       "      <td>3</td>\n",
       "      <td>18</td>\n",
       "      <td>0.0</td>\n",
       "      <td>73.2730</td>\n",
       "      <td>6700</td>\n",
       "    </tr>\n",
       "    <tr>\n",
       "      <td>4</td>\n",
       "      <td>73</td>\n",
       "      <td>0.0</td>\n",
       "      <td>-90.3033</td>\n",
       "      <td>3900</td>\n",
       "    </tr>\n",
       "  </tbody>\n",
       "</table>\n",
       "</div>"
      ],
      "text/plain": [
       "   season_game_seq  playoff  Elo_diff  player_diff\n",
       "0               45      0.0  -15.3684         5400\n",
       "1               60      0.0  214.3494         4400\n",
       "2               28      0.0  103.0277         2300\n",
       "3               18      0.0   73.2730         6700\n",
       "4               73      0.0  -90.3033         3900"
      ]
     },
     "execution_count": 113,
     "metadata": {},
     "output_type": "execute_result"
    }
   ],
   "source": [
    "x_t.head()"
   ]
  },
  {
   "cell_type": "code",
   "execution_count": 114,
   "metadata": {},
   "outputs": [],
   "source": [
    "from sklearn.preprocessing import MinMaxScaler"
   ]
  },
  {
   "cell_type": "code",
   "execution_count": 130,
   "metadata": {},
   "outputs": [],
   "source": [
    "x1 = MinMaxScaler().fit_transform(x)\n",
    "x_t1 = MinMaxScaler().fit_transform(x_t)\n",
    "x_train, x_test, y_train, y_test = train_test_split(x1, y, test_size=0.3)\n"
   ]
  },
  {
   "cell_type": "code",
   "execution_count": 158,
   "metadata": {},
   "outputs": [],
   "source": [
    "model = tf.keras.Sequential([tf.keras.layers.Dense(2, activation = tf.nn.relu),\n",
    "                            tf.keras.layers.Dense(1, activation = tf.nn.sigmoid)])"
   ]
  },
  {
   "cell_type": "code",
   "execution_count": 159,
   "metadata": {},
   "outputs": [],
   "source": [
    "model.compile(optimizer = 'adam',loss = 'binary_crossentropy',metrics =['accuracy'])"
   ]
  },
  {
   "cell_type": "code",
   "execution_count": 126,
   "metadata": {},
   "outputs": [],
   "source": [
    "y = y.to_numpy()"
   ]
  },
  {
   "cell_type": "code",
   "execution_count": 160,
   "metadata": {
    "collapsed": true
   },
   "outputs": [
    {
     "name": "stdout",
     "output_type": "stream",
     "text": [
      "Epoch 1/100\n",
      "31500/31500 [==============================] - 1s 29us/sample - loss: 0.6557 - acc: 0.6212\n",
      "Epoch 2/100\n",
      "31500/31500 [==============================] - 1s 25us/sample - loss: 0.6464 - acc: 0.6212\n",
      "Epoch 3/100\n",
      "31500/31500 [==============================] - 1s 25us/sample - loss: 0.6361 - acc: 0.6264\n",
      "Epoch 4/100\n",
      "31500/31500 [==============================] - 1s 26us/sample - loss: 0.6263 - acc: 0.6410\n",
      "Epoch 5/100\n",
      "31500/31500 [==============================] - 1s 25us/sample - loss: 0.6192 - acc: 0.6561\n",
      "Epoch 6/100\n",
      "31500/31500 [==============================] - 1s 24us/sample - loss: 0.6144 - acc: 0.6630\n",
      "Epoch 7/100\n",
      "31500/31500 [==============================] - 1s 25us/sample - loss: 0.6116 - acc: 0.6645\n",
      "Epoch 8/100\n",
      "31500/31500 [==============================] - 1s 25us/sample - loss: 0.6095 - acc: 0.6669\n",
      "Epoch 9/100\n",
      "31500/31500 [==============================] - 1s 25us/sample - loss: 0.6083 - acc: 0.6676\n",
      "Epoch 10/100\n",
      "31500/31500 [==============================] - 1s 24us/sample - loss: 0.6077 - acc: 0.6681\n",
      "Epoch 11/100\n",
      "31500/31500 [==============================] - 1s 25us/sample - loss: 0.6071 - acc: 0.6686\n",
      "Epoch 12/100\n",
      "31500/31500 [==============================] - 1s 26us/sample - loss: 0.6068 - acc: 0.6688\n",
      "Epoch 13/100\n",
      "31500/31500 [==============================] - 1s 26us/sample - loss: 0.6066 - acc: 0.6705\n",
      "Epoch 14/100\n",
      "31500/31500 [==============================] - 1s 26us/sample - loss: 0.6064 - acc: 0.6691\n",
      "Epoch 15/100\n",
      "31500/31500 [==============================] - 1s 26us/sample - loss: 0.6064 - acc: 0.6691\n",
      "Epoch 16/100\n",
      "31500/31500 [==============================] - 1s 26us/sample - loss: 0.6063 - acc: 0.6701\n",
      "Epoch 17/100\n",
      "31500/31500 [==============================] - 1s 27us/sample - loss: 0.6063 - acc: 0.6711\n",
      "Epoch 18/100\n",
      "31500/31500 [==============================] - 1s 25us/sample - loss: 0.6062 - acc: 0.6708\n",
      "Epoch 19/100\n",
      "31500/31500 [==============================] - 1s 25us/sample - loss: 0.6062 - acc: 0.6690\n",
      "Epoch 20/100\n",
      "31500/31500 [==============================] - 1s 25us/sample - loss: 0.6062 - acc: 0.6699\n",
      "Epoch 21/100\n",
      "31500/31500 [==============================] - 1s 25us/sample - loss: 0.6062 - acc: 0.6713\n",
      "Epoch 22/100\n",
      "31500/31500 [==============================] - 1s 25us/sample - loss: 0.6062 - acc: 0.6704\n",
      "Epoch 23/100\n",
      "31500/31500 [==============================] - 1s 26us/sample - loss: 0.6063 - acc: 0.6706\n",
      "Epoch 24/100\n",
      "31500/31500 [==============================] - 1s 25us/sample - loss: 0.6061 - acc: 0.6712\n",
      "Epoch 25/100\n",
      "31500/31500 [==============================] - 1s 25us/sample - loss: 0.6061 - acc: 0.6707\n",
      "Epoch 26/100\n",
      "31500/31500 [==============================] - 1s 25us/sample - loss: 0.6061 - acc: 0.6705\n",
      "Epoch 27/100\n",
      "31500/31500 [==============================] - 1s 26us/sample - loss: 0.6061 - acc: 0.6710\n",
      "Epoch 28/100\n",
      "31500/31500 [==============================] - 1s 28us/sample - loss: 0.6061 - acc: 0.6697\n",
      "Epoch 29/100\n",
      "31500/31500 [==============================] - 1s 27us/sample - loss: 0.6062 - acc: 0.6703\n",
      "Epoch 30/100\n",
      "31500/31500 [==============================] - 1s 30us/sample - loss: 0.6061 - acc: 0.6705\n",
      "Epoch 31/100\n",
      "31500/31500 [==============================] - 1s 31us/sample - loss: 0.6062 - acc: 0.6704\n",
      "Epoch 32/100\n",
      "22112/31500 [====================>.........] - ETA: 0s - loss: 0.6077 - acc: 0.6700"
     ]
    },
    {
     "ename": "KeyboardInterrupt",
     "evalue": "",
     "output_type": "error",
     "traceback": [
      "\u001b[0;31m---------------------------------------------------------------------------\u001b[0m",
      "\u001b[0;31mKeyboardInterrupt\u001b[0m                         Traceback (most recent call last)",
      "\u001b[0;32m<ipython-input-160-d80490a850f0>\u001b[0m in \u001b[0;36m<module>\u001b[0;34m\u001b[0m\n\u001b[0;32m----> 1\u001b[0;31m \u001b[0mmodel\u001b[0m\u001b[0;34m.\u001b[0m\u001b[0mfit\u001b[0m\u001b[0;34m(\u001b[0m\u001b[0mx_train\u001b[0m\u001b[0;34m,\u001b[0m\u001b[0my_train\u001b[0m\u001b[0;34m,\u001b[0m\u001b[0mepochs\u001b[0m\u001b[0;34m=\u001b[0m\u001b[0;36m100\u001b[0m\u001b[0;34m)\u001b[0m\u001b[0;34m\u001b[0m\u001b[0;34m\u001b[0m\u001b[0m\n\u001b[0m",
      "\u001b[0;32m/usr/lib/python3.7/site-packages/tensorflow/python/keras/engine/training.py\u001b[0m in \u001b[0;36mfit\u001b[0;34m(self, x, y, batch_size, epochs, verbose, callbacks, validation_split, validation_data, shuffle, class_weight, sample_weight, initial_epoch, steps_per_epoch, validation_steps, validation_freq, max_queue_size, workers, use_multiprocessing, **kwargs)\u001b[0m\n\u001b[1;32m    778\u001b[0m           \u001b[0mvalidation_steps\u001b[0m\u001b[0;34m=\u001b[0m\u001b[0mvalidation_steps\u001b[0m\u001b[0;34m,\u001b[0m\u001b[0;34m\u001b[0m\u001b[0;34m\u001b[0m\u001b[0m\n\u001b[1;32m    779\u001b[0m           \u001b[0mvalidation_freq\u001b[0m\u001b[0;34m=\u001b[0m\u001b[0mvalidation_freq\u001b[0m\u001b[0;34m,\u001b[0m\u001b[0;34m\u001b[0m\u001b[0;34m\u001b[0m\u001b[0m\n\u001b[0;32m--> 780\u001b[0;31m           steps_name='steps_per_epoch')\n\u001b[0m\u001b[1;32m    781\u001b[0m \u001b[0;34m\u001b[0m\u001b[0m\n\u001b[1;32m    782\u001b[0m   def evaluate(self,\n",
      "\u001b[0;32m/usr/lib/python3.7/site-packages/tensorflow/python/keras/engine/training_arrays.py\u001b[0m in \u001b[0;36mmodel_iteration\u001b[0;34m(model, inputs, targets, sample_weights, batch_size, epochs, verbose, callbacks, val_inputs, val_targets, val_sample_weights, shuffle, initial_epoch, steps_per_epoch, validation_steps, validation_freq, mode, validation_in_fit, prepared_feed_values_from_dataset, steps_name, **kwargs)\u001b[0m\n\u001b[1;32m    371\u001b[0m \u001b[0;34m\u001b[0m\u001b[0m\n\u001b[1;32m    372\u001b[0m         \u001b[0;31m# Callbacks batch end.\u001b[0m\u001b[0;34m\u001b[0m\u001b[0;34m\u001b[0m\u001b[0;34m\u001b[0m\u001b[0m\n\u001b[0;32m--> 373\u001b[0;31m         \u001b[0mbatch_logs\u001b[0m \u001b[0;34m=\u001b[0m \u001b[0mcbks\u001b[0m\u001b[0;34m.\u001b[0m\u001b[0mmake_logs\u001b[0m\u001b[0;34m(\u001b[0m\u001b[0mmodel\u001b[0m\u001b[0;34m,\u001b[0m \u001b[0mbatch_logs\u001b[0m\u001b[0;34m,\u001b[0m \u001b[0mbatch_outs\u001b[0m\u001b[0;34m,\u001b[0m \u001b[0mmode\u001b[0m\u001b[0;34m)\u001b[0m\u001b[0;34m\u001b[0m\u001b[0;34m\u001b[0m\u001b[0m\n\u001b[0m\u001b[1;32m    374\u001b[0m         \u001b[0mcallbacks\u001b[0m\u001b[0;34m.\u001b[0m\u001b[0m_call_batch_hook\u001b[0m\u001b[0;34m(\u001b[0m\u001b[0mmode\u001b[0m\u001b[0;34m,\u001b[0m \u001b[0;34m'end'\u001b[0m\u001b[0;34m,\u001b[0m \u001b[0mbatch_index\u001b[0m\u001b[0;34m,\u001b[0m \u001b[0mbatch_logs\u001b[0m\u001b[0;34m)\u001b[0m\u001b[0;34m\u001b[0m\u001b[0;34m\u001b[0m\u001b[0m\n\u001b[1;32m    375\u001b[0m         \u001b[0mprogbar\u001b[0m\u001b[0;34m.\u001b[0m\u001b[0mon_batch_end\u001b[0m\u001b[0;34m(\u001b[0m\u001b[0mbatch_index\u001b[0m\u001b[0;34m,\u001b[0m \u001b[0mbatch_logs\u001b[0m\u001b[0;34m)\u001b[0m\u001b[0;34m\u001b[0m\u001b[0;34m\u001b[0m\u001b[0m\n",
      "\u001b[0;32m/usr/lib/python3.7/site-packages/tensorflow/python/keras/callbacks.py\u001b[0m in \u001b[0;36mmake_logs\u001b[0;34m(model, logs, outputs, mode, prefix)\u001b[0m\n\u001b[1;32m    188\u001b[0m   \u001b[0;34m\"\"\"Computes logs for sending to `on_batch_end` methods.\"\"\"\u001b[0m\u001b[0;34m\u001b[0m\u001b[0;34m\u001b[0m\u001b[0m\n\u001b[1;32m    189\u001b[0m   \u001b[0;32mif\u001b[0m \u001b[0mmode\u001b[0m \u001b[0;32min\u001b[0m \u001b[0;34m{\u001b[0m\u001b[0mModeKeys\u001b[0m\u001b[0;34m.\u001b[0m\u001b[0mTRAIN\u001b[0m\u001b[0;34m,\u001b[0m \u001b[0mModeKeys\u001b[0m\u001b[0;34m.\u001b[0m\u001b[0mTEST\u001b[0m\u001b[0;34m}\u001b[0m\u001b[0;34m:\u001b[0m\u001b[0;34m\u001b[0m\u001b[0;34m\u001b[0m\u001b[0m\n\u001b[0;32m--> 190\u001b[0;31m     \u001b[0;32mif\u001b[0m \u001b[0mhasattr\u001b[0m\u001b[0;34m(\u001b[0m\u001b[0mmodel\u001b[0m\u001b[0;34m,\u001b[0m \u001b[0;34m'metrics_names'\u001b[0m\u001b[0;34m)\u001b[0m\u001b[0;34m:\u001b[0m\u001b[0;34m\u001b[0m\u001b[0;34m\u001b[0m\u001b[0m\n\u001b[0m\u001b[1;32m    191\u001b[0m       \u001b[0;32mfor\u001b[0m \u001b[0mlabel\u001b[0m\u001b[0;34m,\u001b[0m \u001b[0moutput\u001b[0m \u001b[0;32min\u001b[0m \u001b[0mzip\u001b[0m\u001b[0;34m(\u001b[0m\u001b[0mmodel\u001b[0m\u001b[0;34m.\u001b[0m\u001b[0mmetrics_names\u001b[0m\u001b[0;34m,\u001b[0m \u001b[0moutputs\u001b[0m\u001b[0;34m)\u001b[0m\u001b[0;34m:\u001b[0m\u001b[0;34m\u001b[0m\u001b[0;34m\u001b[0m\u001b[0m\n\u001b[1;32m    192\u001b[0m         \u001b[0mlogs\u001b[0m\u001b[0;34m[\u001b[0m\u001b[0mprefix\u001b[0m \u001b[0;34m+\u001b[0m \u001b[0mlabel\u001b[0m\u001b[0;34m]\u001b[0m \u001b[0;34m=\u001b[0m \u001b[0moutput\u001b[0m\u001b[0;34m\u001b[0m\u001b[0;34m\u001b[0m\u001b[0m\n",
      "\u001b[0;32m/usr/lib/python3.7/site-packages/tensorflow/python/keras/engine/training.py\u001b[0m in \u001b[0;36mmetrics_names\u001b[0;34m(self)\u001b[0m\n\u001b[1;32m    381\u001b[0m     \u001b[0;31m# Add metric names from layers.\u001b[0m\u001b[0;34m\u001b[0m\u001b[0;34m\u001b[0m\u001b[0;34m\u001b[0m\u001b[0m\n\u001b[1;32m    382\u001b[0m     \u001b[0;32mfor\u001b[0m \u001b[0mlayer\u001b[0m \u001b[0;32min\u001b[0m \u001b[0mself\u001b[0m\u001b[0;34m.\u001b[0m\u001b[0mlayers\u001b[0m\u001b[0;34m:\u001b[0m\u001b[0;34m\u001b[0m\u001b[0;34m\u001b[0m\u001b[0m\n\u001b[0;32m--> 383\u001b[0;31m       \u001b[0mmetrics_names\u001b[0m \u001b[0;34m+=\u001b[0m \u001b[0;34m[\u001b[0m\u001b[0mm\u001b[0m\u001b[0;34m.\u001b[0m\u001b[0mname\u001b[0m \u001b[0;32mfor\u001b[0m \u001b[0mm\u001b[0m \u001b[0;32min\u001b[0m \u001b[0mlayer\u001b[0m\u001b[0;34m.\u001b[0m\u001b[0m_metrics\u001b[0m\u001b[0;34m]\u001b[0m  \u001b[0;31m# pylint: disable=protected-access\u001b[0m\u001b[0;34m\u001b[0m\u001b[0;34m\u001b[0m\u001b[0m\n\u001b[0m\u001b[1;32m    384\u001b[0m     \u001b[0mmetrics_names\u001b[0m \u001b[0;34m+=\u001b[0m \u001b[0;34m[\u001b[0m\u001b[0mm\u001b[0m\u001b[0;34m.\u001b[0m\u001b[0mname\u001b[0m \u001b[0;32mfor\u001b[0m \u001b[0mm\u001b[0m \u001b[0;32min\u001b[0m \u001b[0mself\u001b[0m\u001b[0;34m.\u001b[0m\u001b[0m_metrics\u001b[0m\u001b[0;34m]\u001b[0m\u001b[0;34m\u001b[0m\u001b[0;34m\u001b[0m\u001b[0m\n\u001b[1;32m    385\u001b[0m     \u001b[0;32mreturn\u001b[0m \u001b[0mmetrics_names\u001b[0m\u001b[0;34m\u001b[0m\u001b[0;34m\u001b[0m\u001b[0m\n",
      "\u001b[0;31mKeyboardInterrupt\u001b[0m: "
     ]
    }
   ],
   "source": [
    "model.fit(x_train,y_train,epochs=100)"
   ]
  },
  {
   "cell_type": "code",
   "execution_count": null,
   "metadata": {},
   "outputs": [],
   "source": []
  }
 ],
 "metadata": {
  "kernelspec": {
   "display_name": "Python 3",
   "language": "python",
   "name": "python3"
  },
  "language_info": {
   "codemirror_mode": {
    "name": "ipython",
    "version": 3
   },
   "file_extension": ".py",
   "mimetype": "text/x-python",
   "name": "python",
   "nbconvert_exporter": "python",
   "pygments_lexer": "ipython3",
   "version": "3.7.4"
  }
 },
 "nbformat": 4,
 "nbformat_minor": 2
}
