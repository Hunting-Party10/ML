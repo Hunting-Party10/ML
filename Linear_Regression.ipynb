{
  "nbformat": 4,
  "nbformat_minor": 0,
  "metadata": {
    "colab": {
      "name": "Linear Regression.ipynb",
      "version": "0.3.2",
      "provenance": [],
      "collapsed_sections": [],
      "include_colab_link": true
    },
    "kernelspec": {
      "name": "python3",
      "display_name": "Python 3"
    }
  },
  "cells": [
    {
      "cell_type": "markdown",
      "metadata": {
        "id": "view-in-github",
        "colab_type": "text"
      },
      "source": [
        "<a href=\"https://colab.research.google.com/github/Hunting-Party10/ML/blob/master/Linear_Regression.ipynb\" target=\"_parent\"><img src=\"https://colab.research.google.com/assets/colab-badge.svg\" alt=\"Open In Colab\"/></a>"
      ]
    },
    {
      "cell_type": "markdown",
      "metadata": {
        "id": "c0ngAQ13GjTf",
        "colab_type": "text"
      },
      "source": [
        "# Lecture 2 : Understanding the Dataset"
      ]
    },
    {
      "cell_type": "code",
      "metadata": {
        "id": "BcsaYXc60UgL",
        "colab_type": "code",
        "colab": {}
      },
      "source": [
        "import pandas as pd\n",
        "import quandl"
      ],
      "execution_count": 0,
      "outputs": []
    },
    {
      "cell_type": "code",
      "metadata": {
        "id": "AQhbh2460dsx",
        "colab_type": "code",
        "colab": {}
      },
      "source": [
        "df = quandl.get('WIKI/GOOGL')"
      ],
      "execution_count": 0,
      "outputs": []
    },
    {
      "cell_type": "code",
      "metadata": {
        "id": "FP-mS6k90pem",
        "colab_type": "code",
        "colab": {}
      },
      "source": [
        "print(df.head(5))"
      ],
      "execution_count": 0,
      "outputs": []
    },
    {
      "cell_type": "code",
      "metadata": {
        "id": "YVY3VYHG0tQd",
        "colab_type": "code",
        "colab": {}
      },
      "source": [
        "df = df[['Adj. Open','Adj. High','Adj. Low','Adj. Close','Adj. Volume']]"
      ],
      "execution_count": 0,
      "outputs": []
    },
    {
      "cell_type": "markdown",
      "metadata": {
        "id": "lP8vXKPEIC7I",
        "colab_type": "text"
      },
      "source": [
        "# Lecture 3 : Features and Labels"
      ]
    },
    {
      "cell_type": "markdown",
      "metadata": {
        "id": "FvMgKc2oIpTw",
        "colab_type": "text"
      },
      "source": [
        "setting up custom features such as ***high percentage*** and ***percentage change***"
      ]
    },
    {
      "cell_type": "code",
      "metadata": {
        "id": "O7dVZ-Ff1sxb",
        "colab_type": "code",
        "colab": {}
      },
      "source": [
        "df['HL_PCT'] = (df['Adj. High'] - df['Adj. Close'])/df['Adj. Close'] *100"
      ],
      "execution_count": 0,
      "outputs": []
    },
    {
      "cell_type": "code",
      "metadata": {
        "id": "BE86YGhh2COT",
        "colab_type": "code",
        "colab": {}
      },
      "source": [
        "df['PCT_change'] = (df['Adj. Close'] - df['Adj. Open'])/df['Adj. Open'] * 100"
      ],
      "execution_count": 0,
      "outputs": []
    },
    {
      "cell_type": "code",
      "metadata": {
        "id": "Mei5S-eO2UNV",
        "colab_type": "code",
        "colab": {}
      },
      "source": [
        "df = df[['Adj. Close','HL_PCT','PCT_change','Adj. Volume']]"
      ],
      "execution_count": 0,
      "outputs": []
    },
    {
      "cell_type": "code",
      "metadata": {
        "id": "ulFIVPWw2kUw",
        "colab_type": "code",
        "colab": {}
      },
      "source": [
        "print(df.head())"
      ],
      "execution_count": 0,
      "outputs": []
    },
    {
      "cell_type": "code",
      "metadata": {
        "id": "g9PpUhAL29iX",
        "colab_type": "code",
        "colab": {}
      },
      "source": [
        "forecast_col = 'Adj. Close'\n",
        "df.fillna(-99999, inplace=True)"
      ],
      "execution_count": 0,
      "outputs": []
    },
    {
      "cell_type": "code",
      "metadata": {
        "id": "1dhmv9AG4K5a",
        "colab_type": "code",
        "colab": {}
      },
      "source": [
        "import math\n",
        "forecast_out = int(math.ceil(0.01*len(df)))"
      ],
      "execution_count": 0,
      "outputs": []
    },
    {
      "cell_type": "code",
      "metadata": {
        "id": "OZr8X-2l4fgD",
        "colab_type": "code",
        "colab": {}
      },
      "source": [
        "df['label'] = df[forecast_col].shift(-forecast_out)"
      ],
      "execution_count": 0,
      "outputs": []
    },
    {
      "cell_type": "markdown",
      "metadata": {
        "id": "NOmAywr5HNbJ",
        "colab_type": "text"
      },
      "source": [
        "# Lecture 4: Training and Testing"
      ]
    },
    {
      "cell_type": "code",
      "metadata": {
        "id": "aPGBMjiT5nrc",
        "colab_type": "code",
        "colab": {}
      },
      "source": [
        "import numpy as np\n",
        "from sklearn import preprocessing,svm\n",
        "from sklearn.linear_model import LinearRegression"
      ],
      "execution_count": 0,
      "outputs": []
    },
    {
      "cell_type": "code",
      "metadata": {
        "id": "bymxp_GH6OsW",
        "colab_type": "code",
        "colab": {}
      },
      "source": [
        "from sklearn.model_selection import cross_validate"
      ],
      "execution_count": 0,
      "outputs": []
    },
    {
      "cell_type": "code",
      "metadata": {
        "id": "FHkjVYCt6b9f",
        "colab_type": "code",
        "colab": {}
      },
      "source": [
        "X = np.array(df.drop(['label'],1))\n",
        "y = np.array(df['label'])"
      ],
      "execution_count": 0,
      "outputs": []
    },
    {
      "cell_type": "markdown",
      "metadata": {
        "id": "JmVEUE9KI2G3",
        "colab_type": "text"
      },
      "source": [
        "Making the data ***unit gaussian*** ie ***zero mean and unit variance***"
      ]
    },
    {
      "cell_type": "code",
      "metadata": {
        "id": "oEDIZCvVCF0V",
        "colab_type": "code",
        "colab": {}
      },
      "source": [
        "X = preprocessing.scale(X)"
      ],
      "execution_count": 0,
      "outputs": []
    },
    {
      "cell_type": "markdown",
      "metadata": {
        "id": "NwnALyydJCzd",
        "colab_type": "text"
      },
      "source": [
        "Splitting data into ***train*** and ***test*** "
      ]
    },
    {
      "cell_type": "code",
      "metadata": {
        "id": "PY5Q2iCmCyDo",
        "colab_type": "code",
        "colab": {}
      },
      "source": [
        "from sklearn.model_selection import train_test_split\n",
        "X_train, X_test,y_train,y_test =train_test_split(X, y, test_size=0.2)"
      ],
      "execution_count": 0,
      "outputs": []
    },
    {
      "cell_type": "markdown",
      "metadata": {
        "id": "hJGsyBN5HY5j",
        "colab_type": "text"
      },
      "source": [
        "Using simple ***Linear regression*** model"
      ]
    },
    {
      "cell_type": "code",
      "metadata": {
        "id": "hEfbVEiyDS4W",
        "colab_type": "code",
        "colab": {}
      },
      "source": [
        "clf = LinearRegression()\n",
        "clf.fit(X_train,y_train)\n",
        "accuracy = clf.score(X_test,y_test)"
      ],
      "execution_count": 0,
      "outputs": []
    },
    {
      "cell_type": "code",
      "metadata": {
        "id": "k0hviCb3D7MB",
        "colab_type": "code",
        "colab": {
          "base_uri": "https://localhost:8080/",
          "height": 36
        },
        "outputId": "75853fad-5371-4234-f563-eaf938e06448"
      },
      "source": [
        "print(accuracy)"
      ],
      "execution_count": 38,
      "outputs": [
        {
          "output_type": "stream",
          "text": [
            "0.9789272762919641\n"
          ],
          "name": "stdout"
        }
      ]
    },
    {
      "cell_type": "code",
      "metadata": {
        "id": "WvppnBePD9ev",
        "colab_type": "code",
        "colab": {
          "base_uri": "https://localhost:8080/",
          "height": 36
        },
        "outputId": "703d07cf-61cf-4448-a96e-12d201ad08f9"
      },
      "source": [
        "print(forecast_out)"
      ],
      "execution_count": 39,
      "outputs": [
        {
          "output_type": "stream",
          "text": [
            "35\n"
          ],
          "name": "stdout"
        }
      ]
    },
    {
      "cell_type": "markdown",
      "metadata": {
        "id": "xz8FfJoDHV38",
        "colab_type": "text"
      },
      "source": [
        "Makes use of SVM lr model"
      ]
    },
    {
      "cell_type": "code",
      "metadata": {
        "id": "ljkFyT7rEEdt",
        "colab_type": "code",
        "colab": {}
      },
      "source": [
        "clf = svm.SVR()\n",
        "clf.fit(X_train,y_train)\n",
        "accuracy = clf.score(X_test,y_test)\n",
        "print(accuracy)"
      ],
      "execution_count": 0,
      "outputs": []
    },
    {
      "cell_type": "markdown",
      "metadata": {
        "id": "6uVrcnmUHe3I",
        "colab_type": "text"
      },
      "source": [
        "# Lecture 5 : Regression forecasting and predicting"
      ]
    },
    {
      "cell_type": "code",
      "metadata": {
        "id": "BFomfXiTEXR4",
        "colab_type": "code",
        "colab": {}
      },
      "source": [
        "X =X[:-forecast_out]\n",
        "X_lately = X[-forecast_out:]\n",
        "df.dropna(inplace= True)"
      ],
      "execution_count": 0,
      "outputs": []
    },
    {
      "cell_type": "code",
      "metadata": {
        "id": "fe_mk_b2GJlJ",
        "colab_type": "code",
        "colab": {
          "base_uri": "https://localhost:8080/",
          "height": 36
        },
        "outputId": "a1ab669f-f36d-4c11-d9e4-368f4541f72f"
      },
      "source": [
        "clf = LinearRegression(n_jobs=-1)\n",
        "clf.fit(X_train,y_train)\n",
        "accuracy = clf.score(X_test,y_test)\n",
        "print(accuracy)"
      ],
      "execution_count": 43,
      "outputs": [
        {
          "output_type": "stream",
          "text": [
            "0.9789272762919641\n"
          ],
          "name": "stdout"
        }
      ]
    },
    {
      "cell_type": "markdown",
      "metadata": {
        "id": "9_7TpgLXKNB4",
        "colab_type": "text"
      },
      "source": [
        "Prints out the stock prices for the next 35 days"
      ]
    },
    {
      "cell_type": "code",
      "metadata": {
        "id": "yvjSDskvGZ1O",
        "colab_type": "code",
        "colab": {
          "base_uri": "https://localhost:8080/",
          "height": 148
        },
        "outputId": "c578f4c7-3f36-42df-a86d-4d7282b74721"
      },
      "source": [
        "forecast_set = clf.predict(X_lately)\n",
        "print(forecast_set, forecast_out)"
      ],
      "execution_count": 44,
      "outputs": [
        {
          "output_type": "stream",
          "text": [
            "[1007.9795523  1010.44975696 1009.13114239 1048.02229081 1051.81005547\n",
            " 1052.00724743 1061.50759163 1062.76096704 1069.83578336 1062.03730528\n",
            " 1072.51472051 1067.49207577 1064.21352657 1060.4841702  1061.72165776\n",
            " 1056.2307773  1067.84057258 1054.70872216 1054.52006911 1070.14731958\n",
            " 1071.95967477 1076.48925651 1091.56515259 1081.87829701 1055.09794869\n",
            " 1055.17579801 1043.51912133 1029.66729367 1036.36137436 1050.90060731\n",
            " 1063.7140228  1068.81746785 1071.80800458 1067.07481806 1071.21760902] 35\n"
          ],
          "name": "stdout"
        }
      ]
    },
    {
      "cell_type": "code",
      "metadata": {
        "id": "ds-M8q8xJmG_",
        "colab_type": "code",
        "colab": {}
      },
      "source": [
        "import datetime\n",
        "import matplotlib.pyplot as plt\n",
        "from matplotlib import style\n",
        "\n",
        "style.use('ggplot')\n",
        "%matplotlib inline"
      ],
      "execution_count": 0,
      "outputs": []
    },
    {
      "cell_type": "markdown",
      "metadata": {
        "id": "n3z-VIe1Lwp2",
        "colab_type": "text"
      },
      "source": [
        "Getting inital date"
      ]
    },
    {
      "cell_type": "code",
      "metadata": {
        "id": "wluCut9CKKWA",
        "colab_type": "code",
        "colab": {}
      },
      "source": [
        "df['Forecast'] = np.nan\n",
        "last_date = df.iloc[-1].name\n",
        "last_unix = last_date.timestamp()\n",
        "one_day = 86400\n",
        "next_unix = last_unix + one_day"
      ],
      "execution_count": 0,
      "outputs": []
    },
    {
      "cell_type": "markdown",
      "metadata": {
        "id": "SFdWPrt3Lo_m",
        "colab_type": "text"
      },
      "source": [
        "Date is not a feature of the dataset therefore it need to be added manually"
      ]
    },
    {
      "cell_type": "code",
      "metadata": {
        "id": "oOTsGWl0KsLx",
        "colab_type": "code",
        "colab": {}
      },
      "source": [
        "for i in forecast_set:\n",
        "  next_date = datetime.datetime.fromtimestamp(next_unix)\n",
        "  next_unix+=one_day\n",
        "  df.loc[next_date] = [np.nan for _ in range(len(df.columns)-1)] + [i]"
      ],
      "execution_count": 0,
      "outputs": []
    },
    {
      "cell_type": "markdown",
      "metadata": {
        "id": "6QT_rvAjL1Yq",
        "colab_type": "text"
      },
      "source": [
        "Plotting our data"
      ]
    },
    {
      "cell_type": "code",
      "metadata": {
        "id": "rBY1R-BBLHV1",
        "colab_type": "code",
        "colab": {
          "base_uri": "https://localhost:8080/",
          "height": 276
        },
        "outputId": "6885ab39-8ea8-4f17-a900-c9b335ea12dd"
      },
      "source": [
        "df['Adj. Close'].plot()\n",
        "df['Forecast'].plot()\n",
        "plt.legend(loc=4)\n",
        "plt.xlabel('Date')\n",
        "plt.ylabel('Price')\n",
        "plt.show()"
      ],
      "execution_count": 48,
      "outputs": [
        {
          "output_type": "display_data",
          "data": {
            "image/png": "[encoded data removed]",
            "text/plain": [
              "<Figure size 432x288 with 1 Axes>"
            ]
          },
          "metadata": {
            "tags": []
          }
        }
      ]
    },
    {
      "cell_type": "markdown",
      "metadata": {
        "id": "XaMHKWZeMj7u",
        "colab_type": "text"
      },
      "source": [
        "# Lecture 6: Pickling and Scaling"
      ]
    },
    {
      "cell_type": "code",
      "metadata": {
        "id": "g1WEYPjYLcvU",
        "colab_type": "code",
        "colab": {}
      },
      "source": [
        "import pickle\n",
        "with open()"
      ],
      "execution_count": 0,
      "outputs": []
    }
  ]
}